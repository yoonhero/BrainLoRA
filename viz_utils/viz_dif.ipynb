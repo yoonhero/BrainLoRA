{
 "cells": [
  {
   "cell_type": "code",
   "execution_count": 14,
   "metadata": {},
   "outputs": [
    {
     "name": "stderr",
     "output_type": "stream",
     "text": [
      "<frozen importlib._bootstrap>:241: RuntimeWarning: scipy._lib.messagestream.MessageStream size changed, may indicate binary incompatibility. Expected 56 from C header, got 64 from PyObject\n"
     ]
    }
   ],
   "source": [
    "import PIL\n",
    "from PIL import Image\n",
    "import numpy as np\n",
    "import glob\n",
    "import skimage.measure"
   ]
  },
  {
   "cell_type": "code",
   "execution_count": 12,
   "metadata": {},
   "outputs": [],
   "source": [
    "ims = glob.glob(\"../braincoder/eval/eeg/*3*\")"
   ]
  },
  {
   "cell_type": "code",
   "execution_count": 22,
   "metadata": {},
   "outputs": [],
   "source": [
    "participants = [\"kdh\", \"cmj\", \"jsm\", \"kjh\", \"jyh\", \"kian\", \"csw\", \"kho\", \"jjw\"]\n",
    "\n",
    "data = {}\n",
    "for participant in participants:\n",
    "    targeted = filter(lambda x: participant in x, ims)\n",
    "    targeted = sorted(targeted, key=lambda x: int(x.split(\"_\")[-1].split(\".\")[0]))\n",
    "\n",
    "    data[participant] = [Image.open(t).resize((160, 120)) for t in targeted]"
   ]
  },
  {
   "cell_type": "code",
   "execution_count": 21,
   "metadata": {},
   "outputs": [
    {
     "data": {
      "image/png": "[encoded data removed]",
      "text/plain": [
       "<PIL.Image.Image image mode=RGBA size=160x120>"
      ]
     },
     "execution_count": 21,
     "metadata": {},
     "output_type": "execute_result"
    }
   ],
   "source": [
    "data[\"cmj\"][0].resize((160, 120))"
   ]
  },
  {
   "cell_type": "code",
   "execution_count": 36,
   "metadata": {},
   "outputs": [
    {
     "data": {
      "image/png": "[encoded data removed]",
      "text/plain": [
       "<PIL.Image.Image image mode=RGB size=160x120>"
      ]
     },
     "execution_count": 36,
     "metadata": {},
     "output_type": "execute_result"
    }
   ],
   "source": [
    "im = Image.new(mode=\"RGB\", size=(160, 120), color=(255, 255, 255))\n",
    "im"
   ]
  },
  {
   "cell_type": "code",
   "execution_count": 37,
   "metadata": {},
   "outputs": [
    {
     "data": {
      "image/png": "[encoded data removed]",
      "text/plain": [
       "<PIL.Image.Image image mode=RGB size=160x120>"
      ]
     },
     "execution_count": 37,
     "metadata": {},
     "output_type": "execute_result"
    }
   ],
   "source": [
    "im.putpixel((80, 60),(155, 155, 155))\n",
    "im"
   ]
  },
  {
   "cell_type": "code",
   "execution_count": 34,
   "metadata": {},
   "outputs": [
    {
     "data": {
      "text/plain": [
       "NoneType"
      ]
     },
     "execution_count": 34,
     "metadata": {},
     "output_type": "execute_result"
    }
   ],
   "source": [
    "type(im)"
   ]
  },
  {
   "cell_type": "code",
   "execution_count": 82,
   "metadata": {},
   "outputs": [
    {
     "data": {
      "text/plain": [
       "((14, 120, 3),\n",
       " array([[ 71,  39, 119],\n",
       "        [ 71,  31, 112],\n",
       "        [ 71,  26, 106],\n",
       "        [ 69,  54, 128],\n",
       "        [ 68,  53, 128],\n",
       "        [ 70,  44, 124],\n",
       "        [ 69,  49, 126],\n",
       "        [ 70,  50, 126],\n",
       "        [ 69,  12,  94],\n",
       "        [ 70,  27, 108],\n",
       "        [ 71,  41, 121],\n",
       "        [ 70,  16,  98],\n",
       "        [ 68,   5,  87],\n",
       "        [ 69,  48, 124],\n",
       "        [ 69,  54, 129],\n",
       "        [ 70,  49, 125],\n",
       "        [ 68,  56, 130],\n",
       "        [ 65,  66, 135],\n",
       "        [ 69,  44, 121],\n",
       "        [ 69,  44, 121],\n",
       "        [ 67,  59, 131],\n",
       "        [ 67,  60, 131],\n",
       "        [ 65,  66, 134],\n",
       "        [ 66,  62, 133],\n",
       "        [ 67,  56, 129],\n",
       "        [ 71,  23, 104],\n",
       "        [ 70,  14,  97],\n",
       "        [ 70,  43, 122],\n",
       "        [ 68,  56, 130],\n",
       "        [ 68,  57, 130],\n",
       "        [ 63,  71, 135],\n",
       "        [ 57,  85, 139],\n",
       "        [ 56,  87, 139],\n",
       "        [ 52,  95, 141],\n",
       "        [ 49, 100, 141],\n",
       "        [ 47, 107, 142],\n",
       "        [ 45, 110, 142],\n",
       "        [ 46, 106, 141],\n",
       "        [ 48, 103, 141],\n",
       "        [ 47, 105, 141],\n",
       "        [ 46, 107, 142],\n",
       "        [ 44, 112, 142],\n",
       "        [ 44, 113, 142],\n",
       "        [ 43, 114, 142],\n",
       "        [ 45, 110, 142],\n",
       "        [ 49, 101, 141],\n",
       "        [ 47, 108, 141],\n",
       "        [ 43, 116, 142],\n",
       "        [ 40, 122, 142],\n",
       "        [ 43, 114, 142],\n",
       "        [ 47, 104, 141],\n",
       "        [ 45, 110, 142],\n",
       "        [ 47, 105, 141],\n",
       "        [ 45, 112, 142],\n",
       "        [ 46, 110, 142],\n",
       "        [ 44, 111, 142],\n",
       "        [ 43, 114, 142],\n",
       "        [ 39, 124, 142],\n",
       "        [ 43, 116, 141],\n",
       "        [ 44, 113, 141],\n",
       "        [ 39, 125, 142],\n",
       "        [ 39, 124, 142],\n",
       "        [ 43, 116, 142],\n",
       "        [ 43, 115, 142],\n",
       "        [ 43, 114, 142],\n",
       "        [ 47, 107, 141],\n",
       "        [ 47, 107, 141],\n",
       "        [ 43, 116, 142],\n",
       "        [ 42, 118, 142],\n",
       "        [ 41, 119, 142],\n",
       "        [ 52,  95, 140],\n",
       "        [ 55,  89, 139],\n",
       "        [ 37, 128, 142],\n",
       "        [ 38, 127, 142],\n",
       "        [ 47, 107, 141],\n",
       "        [ 46, 107, 142],\n",
       "        [ 48, 104, 141],\n",
       "        [ 45, 111, 142],\n",
       "        [ 47, 106, 141],\n",
       "        [ 51,  96, 141],\n",
       "        [ 43, 115, 142],\n",
       "        [ 41, 121, 142],\n",
       "        [ 41, 121, 142],\n",
       "        [ 41, 120, 142],\n",
       "        [ 43, 117, 142],\n",
       "        [ 45, 110, 142],\n",
       "        [ 48, 104, 141],\n",
       "        [ 47, 105, 141],\n",
       "        [ 46, 107, 142],\n",
       "        [ 47, 105, 141],\n",
       "        [ 45, 112, 142],\n",
       "        [ 48, 104, 141],\n",
       "        [ 48, 103, 141],\n",
       "        [ 41, 122, 142],\n",
       "        [ 38, 128, 142],\n",
       "        [ 39, 125, 142],\n",
       "        [ 44, 115, 142],\n",
       "        [ 49, 102, 141],\n",
       "        [ 44, 115, 142],\n",
       "        [ 38, 129, 142],\n",
       "        [ 36, 133, 141],\n",
       "        [ 34, 139, 140],\n",
       "        [ 33, 141, 141],\n",
       "        [ 33, 142, 140],\n",
       "        [ 34, 140, 141],\n",
       "        [ 35, 135, 141],\n",
       "        [ 35, 136, 141],\n",
       "        [ 38, 129, 142],\n",
       "        [ 34, 140, 141],\n",
       "        [ 31, 150, 139],\n",
       "        [ 30, 153, 138],\n",
       "        [ 30, 157, 136],\n",
       "        [ 32, 165, 133],\n",
       "        [ 33, 167, 132],\n",
       "        [ 31, 158, 136],\n",
       "        [ 32, 162, 134],\n",
       "        [ 43, 176, 125],\n",
       "        [ 43, 178, 125],\n",
       "        [190, 216,  52],\n",
       "        [255, 233,  32]], dtype=uint8))"
      ]
     },
     "execution_count": 82,
     "metadata": {},
     "output_type": "execute_result"
    }
   ],
   "source": [
    "# base = cmj\n",
    "temp = []\n",
    "base = np.array(data[\"cmj\"][0].convert(\"RGB\"))\n",
    "for i in range(14):\n",
    "    temp.append(np.array(data[\"cmj\"][i].convert(\"RGB\"))[:, 0])\n",
    "a = np.stack(temp)\n",
    "a.shape, a[0]"
   ]
  },
  {
   "cell_type": "code",
   "execution_count": 100,
   "metadata": {},
   "outputs": [],
   "source": [
    "width = 160\n",
    "height = 120\n",
    "\n",
    "results = []\n",
    "for par in [\"kdh\", \"jsm\", \"kjh\", \"jyh\", \"kian\", \"csw\", \"kho\", \"jjw\"]:\n",
    "    im = Image.new(mode=\"RGB\", size=(14, 120), color=(255, 255, 255))\n",
    "    for channel in range(14):\n",
    "        to_compare = np.array(data[par][channel].convert(\"RGB\"))[:, 0]\n",
    "        diff = to_compare-a[channel]\n",
    "        for j in range(height):\n",
    "            # value = (int((diff[j, 0]+diff[j, 1]+diff[j, 2])/3), 255, 255)\n",
    "            value = (diff[j, 0], diff[j, 1], diff[j, 2])\n",
    "            im.putpixel((channel, j), value)\n",
    "    results.append(im)"
   ]
  },
  {
   "cell_type": "code",
   "execution_count": 106,
   "metadata": {},
   "outputs": [
    {
     "data": {
      "image/png": "[encoded data removed]",
      "text/plain": [
       "<PIL.Image.Image image mode=RGB size=14x120>"
      ]
     },
     "execution_count": 106,
     "metadata": {},
     "output_type": "execute_result"
    }
   ],
   "source": [
    "results[5]"
   ]
  },
  {
   "cell_type": "code",
   "execution_count": 113,
   "metadata": {},
   "outputs": [
    {
     "data": {
      "image/png": "[encoded data removed]",
      "text/plain": [
       "<PIL.Image.Image image mode=RGB size=112x120>"
      ]
     },
     "execution_count": 113,
     "metadata": {},
     "output_type": "execute_result"
    }
   ],
   "source": [
    "def concat(ims):\n",
    "    w, h = ims[0].size\n",
    "    dst = Image.new(\"RGB\", (w*len(ims), h))\n",
    "    for index in range(len(ims)):\n",
    "        dst.paste(ims[index], (index*w, 0))\n",
    "\n",
    "    return dst\n",
    "\n",
    "concat(results)"
   ]
  },
  {
   "cell_type": "code",
   "execution_count": null,
   "metadata": {},
   "outputs": [],
   "source": []
  }
 ],
 "metadata": {
  "kernelspec": {
   "display_name": "mlenv",
   "language": "python",
   "name": "python3"
  },
  "language_info": {
   "codemirror_mode": {
    "name": "ipython",
    "version": 3
   },
   "file_extension": ".py",
   "mimetype": "text/x-python",
   "name": "python",
   "nbconvert_exporter": "python",
   "pygments_lexer": "ipython3",
   "version": "3.10.4"
  },
  "orig_nbformat": 4,
  "vscode": {
   "interpreter": {
    "hash": "9d2639ffb07810fac2cedc92e08a41c0bae42ca785c48ccdb21dd6b5e60bd2fc"
   }
  }
 },
 "nbformat": 4,
 "nbformat_minor": 2
}
