{
 "cells": [
  {
   "cell_type": "code",
   "execution_count": 3,
   "metadata": {},
   "outputs": [],
   "source": [
    "import glob\n",
    "\n",
    "edf_files = glob.glob(\"*.edf\")"
   ]
  },
  {
   "cell_type": "code",
   "execution_count": 4,
   "metadata": {},
   "outputs": [
    {
     "data": {
      "text/plain": [
       "['test_2_EPOCX_188655_2023.08.01T21.26.18+09.00.edf',\n",
       " 'test_EPOCX_188655_2023.07.13T21.39.42+09.00.edf',\n",
       " 'test_EPOCX_188655_2023.07.13T21.39.42+09.00.md.edf',\n",
       " 'test_1_EPOCX_188655_2023.08.01T20.44.56+09.00.edf']"
      ]
     },
     "execution_count": 4,
     "metadata": {},
     "output_type": "execute_result"
    }
   ],
   "source": [
    "edf_files"
   ]
  },
  {
   "cell_type": "code",
   "execution_count": 4,
   "metadata": {},
   "outputs": [],
   "source": [
    "from pyedflib import highlevel\n",
    "\n",
    "# channels = [\"AFS3\", \"F7\", \"F3\", \"FC5\", \"T7\", \"P7\", \"O1\", \"O2\", \"P8\", \"T8\", \"FC6\", \"F4\", \"F8\", \"AF4\"]\n",
    "channels = ['TIME_STAMP_S', 'TIME_STAMP_MS', 'OR_TIME_STAMP_S', 'OR_TIME_STAMP_MS', 'COUNTER', 'INTERPOLATED', 'AF3', 'F7', 'F3', 'FC5', 'T7', 'P7', 'O1', 'O2', 'P8', 'T8', 'FC6', 'F4', 'F8', 'AF4', 'RAW_CQ', 'BATTERY', 'BATTERY_PERCENT', 'MARKERINDEX', 'MARKERTYPE', 'MARKERVALUEINT', 'MARKER_HARDWARE', 'CQ_AF3', 'CQ_F7', 'CQ_F3', 'CQ_FC5', 'CQ_T7', 'CQ_P7', 'CQ_O1', 'CQ_O2', 'CQ_P8', 'CQ_T8', 'CQ_FC6', 'CQ_F4', 'CQ_F8', 'CQ_AF4', 'CQ_OVERALL', 'EQ_SAMPLERATEQUA', 'EQ_OVERALL', 'EQ_AF3', 'EQ_F7', 'EQ_F3', 'EQ_FC5', 'EQ_T7', 'EQ_P7', 'EQ_O1', 'EQ_O2', 'EQ_P8', 'EQ_T8', 'EQ_FC6', 'EQ_F4', 'EQ_F8', 'EQ_AF4', 'CQ_CMS', 'CQ_DRL']\n",
    "signals, signal_headers, header = highlevel.read_edf(edf_files[0], ch_names=channels)"
   ]
  },
  {
   "cell_type": "code",
   "execution_count": 5,
   "metadata": {},
   "outputs": [
    {
     "name": "stdout",
     "output_type": "stream",
     "text": [
      "Extracting EDF parameters from /Users/yoonseonghyeon/Desktop/Brainstormers/test_2_EPOCX_188655_2023.08.01T21.26.18+09.00.edf...\n",
      "EDF file detected\n",
      "Setting channel info structure...\n",
      "Creating raw.info structure...\n"
     ]
    },
    {
     "name": "stderr",
     "output_type": "stream",
     "text": [
      "<frozen importlib._bootstrap>:241: RuntimeWarning: scipy._lib.messagestream.MessageStream size changed, may indicate binary incompatibility. Expected 56 from C header, got 64 from PyObject\n"
     ]
    }
   ],
   "source": [
    "import mne\n",
    "data = mne.io.read_raw_edf(edf_files[0])\n",
    "raw_data = data.get_data()\n",
    "# you can get the metadata included in the file and a list of all channels:\n",
    "info = data.info    \n",
    "channels = data.ch_names"
   ]
  },
  {
   "cell_type": "code",
   "execution_count": 6,
   "metadata": {},
   "outputs": [
    {
     "data": {
      "text/html": [
       "<table class=\"table table-hover table-striped table-sm table-responsive small\">\n",
       "    <tr>\n",
       "        <th>Measurement date</th>\n",
       "        \n",
       "        <td>August 01, 2023  21:26:18 GMT</td>\n",
       "        \n",
       "    </tr>\n",
       "    <tr>\n",
       "        <th>Experimenter</th>\n",
       "        \n",
       "        <td>Unknown</td>\n",
       "        \n",
       "    </tr>\n",
       "        <th>Participant</th>\n",
       "        \n",
       "        <td>Unknown</td>\n",
       "        \n",
       "    </tr>\n",
       "    <tr>\n",
       "        <th>Digitized points</th>\n",
       "        \n",
       "        <td>Not available</td>\n",
       "        \n",
       "    </tr>\n",
       "    <tr>\n",
       "        <th>Good channels</th>\n",
       "        <td>60 EEG</td>\n",
       "    </tr>\n",
       "    <tr>\n",
       "        <th>Bad channels</th>\n",
       "        <td>None</td>\n",
       "    </tr>\n",
       "    <tr>\n",
       "        <th>EOG channels</th>\n",
       "        <td>Not available</td>\n",
       "    </tr>\n",
       "    <tr>\n",
       "        <th>ECG channels</th>\n",
       "        <td>Not available</td>\n",
       "    \n",
       "    <tr>\n",
       "        <th>Sampling frequency</th>\n",
       "        <td>128.00 Hz</td>\n",
       "    </tr>\n",
       "    \n",
       "    \n",
       "    <tr>\n",
       "        <th>Highpass</th>\n",
       "        <td>0.00 Hz</td>\n",
       "    </tr>\n",
       "    \n",
       "    \n",
       "    <tr>\n",
       "        <th>Lowpass</th>\n",
       "        <td>64.00 Hz</td>\n",
       "    </tr>\n",
       "    \n",
       "    \n",
       "</table>"
      ],
      "text/plain": [
       "<Info | 7 non-empty values\n",
       " bads: []\n",
       " ch_names: TIME_STAMP_s, TIME_STAMP_ms, OR_TIME_STAMP_s, OR_TIME_STAMP_ms, ...\n",
       " chs: 60 EEG\n",
       " custom_ref_applied: False\n",
       " highpass: 0.0 Hz\n",
       " lowpass: 64.0 Hz\n",
       " meas_date: 2023-08-01 21:26:18 UTC\n",
       " nchan: 60\n",
       " projs: []\n",
       " sfreq: 128.0 Hz\n",
       ">"
      ]
     },
     "execution_count": 6,
     "metadata": {},
     "output_type": "execute_result"
    }
   ],
   "source": [
    "info"
   ]
  },
  {
   "cell_type": "code",
   "execution_count": 60,
   "metadata": {},
   "outputs": [
    {
     "data": {
      "text/plain": [
       "numpy.ndarray"
      ]
     },
     "execution_count": 60,
     "metadata": {},
     "output_type": "execute_result"
    }
   ],
   "source": [
    "type(raw_data)"
   ]
  },
  {
   "cell_type": "code",
   "execution_count": 61,
   "metadata": {},
   "outputs": [
    {
     "data": {
      "text/plain": [
       "(60, 7552)"
      ]
     },
     "execution_count": 61,
     "metadata": {},
     "output_type": "execute_result"
    }
   ],
   "source": [
    "raw_data.shape"
   ]
  },
  {
   "cell_type": "code",
   "execution_count": 63,
   "metadata": {},
   "outputs": [
    {
     "data": {
      "text/plain": [
       "(['TIME_STAMP_s',\n",
       "  'TIME_STAMP_ms',\n",
       "  'OR_TIME_STAMP_s',\n",
       "  'OR_TIME_STAMP_ms',\n",
       "  'COUNTER',\n",
       "  'INTERPOLATED',\n",
       "  'AF3',\n",
       "  'F7',\n",
       "  'F3',\n",
       "  'FC5',\n",
       "  'T7',\n",
       "  'P7',\n",
       "  'O1',\n",
       "  'O2',\n",
       "  'P8',\n",
       "  'T8',\n",
       "  'FC6',\n",
       "  'F4',\n",
       "  'F8',\n",
       "  'AF4',\n",
       "  'RAW_CQ',\n",
       "  'BATTERY',\n",
       "  'BATTERY_PERCENT',\n",
       "  'MarkerIndex',\n",
       "  'MarkerType',\n",
       "  'MarkerValueInt',\n",
       "  'MARKER_HARDWARE',\n",
       "  'CQ_AF3',\n",
       "  'CQ_F7',\n",
       "  'CQ_F3',\n",
       "  'CQ_FC5',\n",
       "  'CQ_T7',\n",
       "  'CQ_P7',\n",
       "  'CQ_O1',\n",
       "  'CQ_O2',\n",
       "  'CQ_P8',\n",
       "  'CQ_T8',\n",
       "  'CQ_FC6',\n",
       "  'CQ_F4',\n",
       "  'CQ_F8',\n",
       "  'CQ_AF4',\n",
       "  'CQ_Overall',\n",
       "  'EQ_SampleRateQua',\n",
       "  'EQ_OVERALL',\n",
       "  'EQ_AF3',\n",
       "  'EQ_F7',\n",
       "  'EQ_F3',\n",
       "  'EQ_FC5',\n",
       "  'EQ_T7',\n",
       "  'EQ_P7',\n",
       "  'EQ_O1',\n",
       "  'EQ_O2',\n",
       "  'EQ_P8',\n",
       "  'EQ_T8',\n",
       "  'EQ_FC6',\n",
       "  'EQ_F4',\n",
       "  'EQ_F8',\n",
       "  'EQ_AF4',\n",
       "  'CQ_CMS',\n",
       "  'CQ_DRL'],\n",
       " 60)"
      ]
     },
     "execution_count": 63,
     "metadata": {},
     "output_type": "execute_result"
    }
   ],
   "source": [
    "channels, len(channels)"
   ]
  },
  {
   "cell_type": "code",
   "execution_count": 7,
   "metadata": {},
   "outputs": [
    {
     "name": "stdout",
     "output_type": "stream",
     "text": [
      "['AF3', 'F7', 'F3', 'FC5', 'T7', 'P7', 'O1', 'O2', 'P8', 'T8', 'FC6', 'F4', 'F8', 'AF4']\n"
     ]
    },
    {
     "data": {
      "text/plain": [
       "[6, 7, 8, 9, 10, 11, 12, 13, 14, 15, 16, 17, 18, 19]"
      ]
     },
     "execution_count": 7,
     "metadata": {},
     "output_type": "execute_result"
    }
   ],
   "source": [
    "roi_channels = \"\"\"AF3\n",
    "F7\n",
    "F3\n",
    "FC5\n",
    "T7\n",
    "P7\n",
    "O1\n",
    "O2\n",
    "P8\n",
    "T8\n",
    "FC6\n",
    "F4\n",
    "F8\n",
    "AF4\"\"\".split(\"\\n\")\n",
    "\n",
    "print(roi_channels)\n",
    "\n",
    "roi_idxes = [channels.index(c) for c in roi_channels]\n",
    "roi_idxes"
   ]
  },
  {
   "cell_type": "code",
   "execution_count": 8,
   "metadata": {},
   "outputs": [],
   "source": [
    "roi_data = raw_data[roi_idxes, :]"
   ]
  },
  {
   "cell_type": "code",
   "execution_count": 9,
   "metadata": {},
   "outputs": [
    {
     "data": {
      "text/plain": [
       "(14, 107008)"
      ]
     },
     "execution_count": 9,
     "metadata": {},
     "output_type": "execute_result"
    }
   ],
   "source": [
    "roi_data.shape"
   ]
  },
  {
   "cell_type": "raw",
   "metadata": {},
   "source": [
    "r"
   ]
  },
  {
   "cell_type": "raw",
   "metadata": {},
   "source": []
  },
  {
   "cell_type": "code",
   "execution_count": 34,
   "metadata": {},
   "outputs": [
    {
     "data": {
      "text/plain": [
       "(107008,)"
      ]
     },
     "execution_count": 34,
     "metadata": {},
     "output_type": "execute_result"
    }
   ],
   "source": [
    "r.shape"
   ]
  },
  {
   "cell_type": "code",
   "execution_count": 35,
   "metadata": {},
   "outputs": [],
   "source": [
    "specific_timestamp = roi_data[:, r]"
   ]
  },
  {
   "cell_type": "code",
   "execution_count": 53,
   "metadata": {},
   "outputs": [
    {
     "data": {
      "text/plain": [
       "(14, 768)"
      ]
     },
     "execution_count": 53,
     "metadata": {},
     "output_type": "execute_result"
    }
   ],
   "source": [
    "specific_timestamp.shape"
   ]
  },
  {
   "cell_type": "code",
   "execution_count": 77,
   "metadata": {
    "scrolled": true
   },
   "outputs": [
    {
     "data": {
      "image/png": "[encoded data removed]",
      "text/plain": [
       "<Figure size 432x288 with 1 Axes>"
      ]
     },
     "metadata": {
      "needs_background": "light"
     },
     "output_type": "display_data"
    }
   ],
   "source": [
    "import numpy as np\n",
    "import matplotlib.pyplot as plt\n",
    "\n",
    "x = np.arange(0, specific_timestamp.shape[-1]*1000/128, 1000/128)\n",
    "\n",
    "for i in range(specific_timestamp.shape[0]):\n",
    "    temp_y = specific_timestamp[i]\n",
    "    plt.plot(x, temp_y, label=roi_channels[i])\n",
    "\n",
    "plt.title('EEG Data during gazing the image.')\n",
    "plt.xlabel('time (ms)')\n",
    "plt.legend(loc='lower right', ncol=5, fontsize=8)\n",
    "\n",
    "plt.tight_layout()\n",
    "plt.savefig('gazing_eeg_data_example.png', dpi=400)"
   ]
  },
  {
   "cell_type": "code",
   "execution_count": 16,
   "metadata": {},
   "outputs": [],
   "source": [
    "s_timestamp = raw_data[0, :]\n",
    "ms_timestamp = raw_data[1, :]"
   ]
  },
  {
   "cell_type": "code",
   "execution_count": 17,
   "metadata": {},
   "outputs": [
    {
     "data": {
      "text/plain": [
       "array([0., 0., 0., 0., 0., 0., 0., 0., 0., 0.])"
      ]
     },
     "execution_count": 17,
     "metadata": {},
     "output_type": "execute_result"
    }
   ],
   "source": [
    "s_timestamp[:10]"
   ]
  },
  {
   "cell_type": "code",
   "execution_count": 51,
   "metadata": {},
   "outputs": [
    {
     "data": {
      "text/plain": [
       "array([0.e+00, 0.e+00, 0.e+00, 0.e+00, 0.e+00, 0.e+00, 0.e+00, 0.e+00,\n",
       "       0.e+00, 0.e+00, 0.e+00, 0.e+00, 0.e+00, 0.e+00, 0.e+00, 0.e+00,\n",
       "       0.e+00, 0.e+00, 0.e+00, 0.e+00, 0.e+00, 0.e+00, 0.e+00, 0.e+00,\n",
       "       0.e+00, 0.e+00, 0.e+00, 0.e+00, 0.e+00, 0.e+00, 0.e+00, 0.e+00,\n",
       "       0.e+00, 0.e+00, 0.e+00, 0.e+00, 0.e+00, 0.e+00, 0.e+00, 0.e+00,\n",
       "       0.e+00, 0.e+00, 0.e+00, 0.e+00, 0.e+00, 0.e+00, 0.e+00, 0.e+00,\n",
       "       0.e+00, 0.e+00, 0.e+00, 0.e+00, 0.e+00, 0.e+00, 0.e+00, 0.e+00,\n",
       "       0.e+00, 0.e+00, 0.e+00, 0.e+00, 0.e+00, 0.e+00, 0.e+00, 0.e+00,\n",
       "       0.e+00, 0.e+00, 0.e+00, 0.e+00, 0.e+00, 0.e+00, 0.e+00, 0.e+00,\n",
       "       0.e+00, 0.e+00, 0.e+00, 0.e+00, 0.e+00, 0.e+00, 0.e+00, 0.e+00,\n",
       "       0.e+00, 0.e+00, 0.e+00, 0.e+00, 0.e+00, 0.e+00, 0.e+00, 0.e+00,\n",
       "       0.e+00, 0.e+00, 0.e+00, 0.e+00, 0.e+00, 0.e+00, 0.e+00, 0.e+00,\n",
       "       0.e+00, 0.e+00, 0.e+00, 0.e+00, 0.e+00, 0.e+00, 0.e+00, 0.e+00,\n",
       "       0.e+00, 0.e+00, 0.e+00, 0.e+00, 0.e+00, 0.e+00, 0.e+00, 0.e+00,\n",
       "       0.e+00, 0.e+00, 0.e+00, 0.e+00, 0.e+00, 0.e+00, 0.e+00, 0.e+00,\n",
       "       0.e+00, 0.e+00, 0.e+00, 0.e+00, 0.e+00, 0.e+00, 0.e+00, 0.e+00,\n",
       "       0.e+00, 1.e-06, 1.e-06, 1.e-06, 1.e-06, 1.e-06, 1.e-06, 1.e-06,\n",
       "       1.e-06, 1.e-06, 1.e-06, 1.e-06, 1.e-06, 1.e-06, 1.e-06, 1.e-06,\n",
       "       1.e-06, 1.e-06, 1.e-06, 1.e-06, 1.e-06, 1.e-06, 1.e-06, 1.e-06,\n",
       "       1.e-06, 1.e-06, 1.e-06, 1.e-06, 1.e-06, 1.e-06, 1.e-06, 1.e-06,\n",
       "       1.e-06, 1.e-06, 1.e-06, 1.e-06, 1.e-06, 1.e-06, 1.e-06, 1.e-06,\n",
       "       1.e-06, 1.e-06, 1.e-06, 1.e-06, 1.e-06, 1.e-06, 1.e-06, 1.e-06,\n",
       "       1.e-06, 1.e-06, 1.e-06, 1.e-06, 1.e-06, 1.e-06, 1.e-06, 1.e-06,\n",
       "       1.e-06, 1.e-06, 1.e-06, 1.e-06, 1.e-06, 1.e-06, 1.e-06, 1.e-06,\n",
       "       1.e-06, 1.e-06, 1.e-06, 1.e-06, 1.e-06, 1.e-06, 1.e-06, 1.e-06,\n",
       "       1.e-06, 1.e-06, 1.e-06, 1.e-06, 1.e-06, 1.e-06, 1.e-06, 1.e-06,\n",
       "       1.e-06, 1.e-06, 1.e-06, 1.e-06, 1.e-06, 1.e-06, 1.e-06, 1.e-06,\n",
       "       1.e-06, 1.e-06, 1.e-06, 1.e-06, 1.e-06, 1.e-06, 1.e-06, 1.e-06,\n",
       "       1.e-06, 1.e-06, 1.e-06, 1.e-06, 1.e-06, 1.e-06, 1.e-06, 1.e-06,\n",
       "       1.e-06, 1.e-06, 1.e-06, 1.e-06, 1.e-06, 1.e-06, 1.e-06, 1.e-06,\n",
       "       1.e-06, 1.e-06, 1.e-06, 1.e-06, 1.e-06, 1.e-06, 1.e-06, 1.e-06,\n",
       "       1.e-06, 1.e-06, 1.e-06, 1.e-06, 1.e-06, 1.e-06, 1.e-06, 1.e-06,\n",
       "       1.e-06, 2.e-06])"
      ]
     },
     "execution_count": 51,
     "metadata": {},
     "output_type": "execute_result"
    }
   ],
   "source": [
    "s_timestamp[:258]"
   ]
  },
  {
   "cell_type": "code",
   "execution_count": 26,
   "metadata": {},
   "outputs": [],
   "source": [
    "r = ((s_timestamp*1000000 + ms_timestamp*1000)>=1) * ((s_timestamp*1000000 + ms_timestamp*1000)<=7)"
   ]
  },
  {
   "cell_type": "code",
   "execution_count": 38,
   "metadata": {},
   "outputs": [
    {
     "data": {
      "text/plain": [
       "(107008,)"
      ]
     },
     "execution_count": 38,
     "metadata": {},
     "output_type": "execute_result"
    }
   ],
   "source": [
    "r.shape"
   ]
  },
  {
   "cell_type": "code",
   "execution_count": 155,
   "metadata": {},
   "outputs": [
    {
     "data": {
      "text/plain": [
       "(14, 256)"
      ]
     },
     "execution_count": 155,
     "metadata": {},
     "output_type": "execute_result"
    }
   ],
   "source": [
    "roi_data[:, :500][:, r].shape"
   ]
  },
  {
   "cell_type": "code",
   "execution_count": 89,
   "metadata": {},
   "outputs": [
    {
     "data": {
      "text/plain": [
       "array([0.00443795, 0.0044    , 0.00439128, 0.00444051, 0.00440872,\n",
       "       0.00441846, 0.00444564, 0.00442974, 0.00440256, 0.00440205,\n",
       "       0.00464615, 0.00460872, 0.00459026, 0.00459641])"
      ]
     },
     "execution_count": 89,
     "metadata": {},
     "output_type": "execute_result"
    }
   ],
   "source": [
    "data = roi_data[:, 0]\n",
    "data"
   ]
  },
  {
   "cell_type": "code",
   "execution_count": 105,
   "metadata": {},
   "outputs": [
    {
     "data": {
      "text/plain": [
       "array([False, False, False, ..., False, False, False])"
      ]
     },
     "execution_count": 105,
     "metadata": {},
     "output_type": "execute_result"
    }
   ],
   "source": [
    "timestamp > 1"
   ]
  },
  {
   "cell_type": "code",
   "execution_count": 90,
   "metadata": {},
   "outputs": [
    {
     "data": {
      "text/plain": [
       "array([[[6.52609051e-12, 7.75383983e-11, 1.48843713e-10, ...,\n",
       "         1.67051675e-12, 7.77060237e-13, 6.36691502e-11],\n",
       "        [2.19494097e-10, 5.88845230e-11, 8.47721420e-10, ...,\n",
       "         2.14443870e-09, 2.13032719e-11, 1.46743428e-09],\n",
       "        [1.23982268e-09, 2.65757880e-12, 4.15584787e-11, ...,\n",
       "         2.03373078e-09, 4.77033107e-12, 1.79276758e-09],\n",
       "        ...,\n",
       "        [1.41167040e-16, 1.81919828e-15, 7.75526107e-16, ...,\n",
       "         3.93639559e-16, 4.07370176e-16, 4.99882634e-17],\n",
       "        [8.85993193e-16, 5.75463789e-16, 1.56561507e-16, ...,\n",
       "         2.31516090e-16, 1.82261151e-15, 5.45528620e-18],\n",
       "        [2.36341248e-18, 4.67682344e-16, 2.47262627e-16, ...,\n",
       "         2.12609762e-16, 5.07801248e-17, 5.74851747e-17]],\n",
       "\n",
       "       [[1.49730418e-11, 1.43414770e-11, 1.06839089e-11, ...,\n",
       "         3.27643379e-14, 9.05110379e-13, 2.02482603e-11],\n",
       "        [1.37541063e-09, 1.58196795e-09, 3.04121598e-10, ...,\n",
       "         4.51735321e-10, 5.68133325e-11, 2.71326946e-10],\n",
       "        [3.43860292e-12, 2.18589109e-10, 1.33927414e-10, ...,\n",
       "         4.14066573e-10, 3.22460740e-12, 4.98030812e-10],\n",
       "        ...,\n",
       "        [1.23989802e-16, 1.18307803e-15, 4.00576522e-16, ...,\n",
       "         1.72850195e-15, 1.58809835e-16, 1.56046650e-15],\n",
       "        [1.87943802e-17, 1.55280847e-15, 5.52433957e-16, ...,\n",
       "         1.14425879e-15, 1.03260160e-15, 3.63127021e-15],\n",
       "        [7.09548188e-17, 2.41498293e-16, 2.46957399e-16, ...,\n",
       "         1.90630887e-17, 1.10184798e-15, 3.09908571e-15]],\n",
       "\n",
       "       [[4.70021999e-15, 1.22733014e-12, 3.20418324e-13, ...,\n",
       "         1.33197562e-14, 4.86625179e-14, 7.69798892e-14],\n",
       "        [6.17009565e-11, 6.37929091e-12, 6.25311370e-12, ...,\n",
       "         1.56611141e-12, 2.43446481e-13, 1.97384360e-12],\n",
       "        [6.60434858e-11, 3.09830192e-11, 5.68389703e-13, ...,\n",
       "         9.91286358e-13, 2.03409186e-13, 1.31312815e-12],\n",
       "        ...,\n",
       "        [2.92943318e-15, 5.12872807e-14, 2.87147707e-15, ...,\n",
       "         8.05346752e-15, 6.42741168e-15, 1.02888206e-14],\n",
       "        [6.99931248e-15, 3.90580393e-14, 9.23765332e-17, ...,\n",
       "         6.37607653e-16, 1.92039998e-15, 7.41287123e-16],\n",
       "        [2.11625725e-15, 1.24765438e-14, 2.32062882e-16, ...,\n",
       "         3.45972606e-16, 6.03591861e-16, 2.51239619e-16]],\n",
       "\n",
       "       ...,\n",
       "\n",
       "       [[1.14384280e-11, 7.05315938e-12, 9.00194206e-12, ...,\n",
       "         1.60979783e-13, 2.56222864e-14, 6.89143478e-12],\n",
       "        [8.07497400e-10, 4.95438158e-12, 1.57626503e-10, ...,\n",
       "         1.70642503e-10, 1.99991790e-11, 1.14254496e-10],\n",
       "        [5.35724485e-10, 1.11850660e-11, 2.52204226e-11, ...,\n",
       "         2.23633625e-10, 1.49522908e-11, 1.86296643e-10],\n",
       "        ...,\n",
       "        [2.12907890e-15, 1.48279803e-15, 1.29306344e-15, ...,\n",
       "         4.35834277e-16, 2.60521830e-16, 1.12800502e-16],\n",
       "        [1.47203293e-15, 1.63558284e-15, 1.53020691e-16, ...,\n",
       "         6.90145153e-16, 1.53965189e-16, 1.03111125e-15],\n",
       "        [1.52598584e-17, 1.63976796e-16, 3.80865371e-16, ...,\n",
       "         5.64096726e-16, 4.69597317e-16, 2.41135833e-16]],\n",
       "\n",
       "       [[1.01810615e-11, 3.49265121e-12, 2.21506110e-11, ...,\n",
       "         2.53579078e-13, 2.11806992e-13, 1.16184550e-11],\n",
       "        [5.03325944e-09, 2.47948486e-09, 2.14984874e-10, ...,\n",
       "         6.69035627e-10, 1.56723876e-11, 4.58144004e-10],\n",
       "        [4.53078398e-09, 2.00458502e-09, 2.96972386e-11, ...,\n",
       "         4.79546876e-10, 1.04431484e-11, 4.60532596e-10],\n",
       "        ...,\n",
       "        [1.01894679e-15, 2.99165407e-16, 2.22257579e-16, ...,\n",
       "         1.28782798e-16, 8.57101093e-16, 3.40277622e-16],\n",
       "        [1.07363209e-15, 2.53650141e-16, 4.59370970e-16, ...,\n",
       "         3.76769319e-17, 7.94686570e-17, 9.62197758e-16],\n",
       "        [4.27870273e-17, 7.47545443e-17, 3.31347032e-17, ...,\n",
       "         4.22365525e-16, 9.10661677e-17, 3.29484757e-18]],\n",
       "\n",
       "       [[8.95731370e-13, 3.31199736e-11, 2.36316308e-10, ...,\n",
       "         2.52759780e-12, 5.89786633e-13, 4.56545410e-11],\n",
       "        [4.50135633e-10, 7.35113179e-10, 6.95926616e-10, ...,\n",
       "         3.50659187e-09, 1.08521846e-12, 2.31557861e-09],\n",
       "        [2.12557561e-09, 3.76366027e-10, 1.36352453e-10, ...,\n",
       "         2.78746858e-09, 1.13532595e-11, 2.24357799e-09],\n",
       "        ...,\n",
       "        [1.37633626e-16, 3.13185693e-16, 5.56232944e-16, ...,\n",
       "         1.82846452e-15, 2.14249516e-16, 1.91892275e-15],\n",
       "        [2.96339047e-15, 1.23671257e-15, 5.47270250e-16, ...,\n",
       "         2.11311212e-17, 4.96734651e-16, 7.70041628e-18],\n",
       "        [4.11524276e-16, 8.84564798e-16, 2.39407356e-16, ...,\n",
       "         1.50200507e-16, 3.62066932e-17, 1.16064330e-15]]])"
      ]
     },
     "execution_count": 90,
     "metadata": {},
     "output_type": "execute_result"
    }
   ],
   "source": [
    "from scipy.signal import spectrogram\n",
    "from matplotlib.pyplot import specgram\n",
    "\n",
    "raw = spectrogram(roi_data, fs=125, noverlap=1)[2]"
   ]
  },
  {
   "cell_type": "code",
   "execution_count": 102,
   "metadata": {},
   "outputs": [
    {
     "data": {
      "image/png": "[encoded data removed]",
      "text/plain": [
       "<Figure size 432x288 with 1 Axes>"
      ]
     },
     "metadata": {},
     "output_type": "display_data"
    }
   ],
   "source": [
    "import matplotlib\n",
    "import matplotlib.pyplot as plt\n",
    "\n",
    "\n",
    "for i in range(roi_data.shape[0]):\n",
    "    im = specgram(roi_data[i, :], Fs=125, noverlap=1)[3]\n",
    "    plt.gca().set_axis_off()\n",
    "    plt.subplots_adjust(top = 1, bottom = 0, right = 1, left = 0, \n",
    "                hspace = 0, wspace = 0)\n",
    "    plt.margins(0,0)\n",
    "    plt.gca().xaxis.set_major_locator(matplotlib.ticker.NullLocator())\n",
    "    plt.gca().yaxis.set_major_locator(matplotlib.ticker.NullLocator())\n",
    "    plt.savefig(f\"image_{i}th_channel.png\", bbox_inches = 'tight',\n",
    "    pad_inches = 0)"
   ]
  },
  {
   "cell_type": "code",
   "execution_count": 7,
   "metadata": {},
   "outputs": [],
   "source": [
    "import pandas as pd"
   ]
  },
  {
   "cell_type": "code",
   "execution_count": 35,
   "metadata": {},
   "outputs": [],
   "source": [
    "data = pd.read_csv(\"./test_EPOCX_188655_2023.07.13T21.39.42+09.00.md.csv\", sep=\",\")"
   ]
  },
  {
   "cell_type": "code",
   "execution_count": 36,
   "metadata": {},
   "outputs": [
    {
     "data": {
      "text/html": [
       "<div>\n",
       "<style scoped>\n",
       "    .dataframe tbody tr th:only-of-type {\n",
       "        vertical-align: middle;\n",
       "    }\n",
       "\n",
       "    .dataframe tbody tr th {\n",
       "        vertical-align: top;\n",
       "    }\n",
       "\n",
       "    .dataframe thead th {\n",
       "        text-align: right;\n",
       "    }\n",
       "</style>\n",
       "<table border=\"1\" class=\"dataframe\">\n",
       "  <thead>\n",
       "    <tr style=\"text-align: right;\">\n",
       "      <th></th>\n",
       "      <th></th>\n",
       "      <th></th>\n",
       "      <th></th>\n",
       "      <th></th>\n",
       "      <th></th>\n",
       "      <th></th>\n",
       "      <th></th>\n",
       "      <th></th>\n",
       "      <th></th>\n",
       "      <th></th>\n",
       "      <th></th>\n",
       "      <th></th>\n",
       "      <th></th>\n",
       "      <th></th>\n",
       "      <th></th>\n",
       "      <th></th>\n",
       "      <th></th>\n",
       "      <th></th>\n",
       "      <th></th>\n",
       "      <th></th>\n",
       "      <th></th>\n",
       "      <th></th>\n",
       "      <th></th>\n",
       "      <th></th>\n",
       "      <th></th>\n",
       "      <th></th>\n",
       "      <th></th>\n",
       "      <th></th>\n",
       "      <th></th>\n",
       "      <th></th>\n",
       "      <th></th>\n",
       "      <th></th>\n",
       "      <th></th>\n",
       "      <th></th>\n",
       "      <th></th>\n",
       "      <th></th>\n",
       "      <th></th>\n",
       "      <th></th>\n",
       "      <th></th>\n",
       "      <th></th>\n",
       "      <th></th>\n",
       "      <th></th>\n",
       "      <th></th>\n",
       "      <th></th>\n",
       "      <th></th>\n",
       "      <th></th>\n",
       "      <th></th>\n",
       "      <th></th>\n",
       "      <th></th>\n",
       "      <th></th>\n",
       "      <th></th>\n",
       "      <th></th>\n",
       "      <th></th>\n",
       "      <th></th>\n",
       "      <th></th>\n",
       "      <th></th>\n",
       "      <th>title:test</th>\n",
       "      <th>start timestamp:1689251982.047112</th>\n",
       "      <th>stop timestamp:1689252058.536061</th>\n",
       "      <th>headset type:EPOCX</th>\n",
       "      <th>headset serial:E5020228</th>\n",
       "      <th>headset firmware:720</th>\n",
       "      <th>channels:67</th>\n",
       "      <th>sampling rate:eeg_128;mot_32</th>\n",
       "      <th>samples:7600</th>\n",
       "      <th>version:2.2</th>\n",
       "      <th></th>\n",
       "    </tr>\n",
       "  </thead>\n",
       "  <tbody>\n",
       "    <tr>\n",
       "      <th>Timestamp</th>\n",
       "      <th>OriginalTimestamp</th>\n",
       "      <th>EEG.Counter</th>\n",
       "      <th>EEG.Interpolated</th>\n",
       "      <th>EEG.AF3</th>\n",
       "      <th>EEG.F7</th>\n",
       "      <th>EEG.F3</th>\n",
       "      <th>EEG.FC5</th>\n",
       "      <th>EEG.T7</th>\n",
       "      <th>EEG.P7</th>\n",
       "      <th>EEG.O1</th>\n",
       "      <th>EEG.O2</th>\n",
       "      <th>EEG.P8</th>\n",
       "      <th>EEG.T8</th>\n",
       "      <th>EEG.FC6</th>\n",
       "      <th>EEG.F4</th>\n",
       "      <th>EEG.F8</th>\n",
       "      <th>EEG.AF4</th>\n",
       "      <th>EEG.RawCq</th>\n",
       "      <th>EEG.Battery</th>\n",
       "      <th>EEG.BatteryPercent</th>\n",
       "      <th>MarkerIndex</th>\n",
       "      <th>MarkerType</th>\n",
       "      <th>MarkerValueInt</th>\n",
       "      <th>EEG.MarkerHardware</th>\n",
       "      <th>CQ.AF3</th>\n",
       "      <th>CQ.F7</th>\n",
       "      <th>CQ.F3</th>\n",
       "      <th>CQ.FC5</th>\n",
       "      <th>CQ.T7</th>\n",
       "      <th>CQ.P7</th>\n",
       "      <th>CQ.O1</th>\n",
       "      <th>CQ.O2</th>\n",
       "      <th>CQ.P8</th>\n",
       "      <th>CQ.T8</th>\n",
       "      <th>CQ.FC6</th>\n",
       "      <th>CQ.F4</th>\n",
       "      <th>CQ.F8</th>\n",
       "      <th>CQ.AF4</th>\n",
       "      <th>CQ.Overall</th>\n",
       "      <th>EQ.SampleRateQuality</th>\n",
       "      <th>EQ.OVERALL</th>\n",
       "      <th>EQ.AF3</th>\n",
       "      <th>EQ.F7</th>\n",
       "      <th>EQ.F3</th>\n",
       "      <th>EQ.FC5</th>\n",
       "      <th>EQ.T7</th>\n",
       "      <th>EQ.P7</th>\n",
       "      <th>EQ.O1</th>\n",
       "      <th>EQ.O2</th>\n",
       "      <th>EQ.P8</th>\n",
       "      <th>EQ.T8</th>\n",
       "      <th>EQ.FC6</th>\n",
       "      <th>EQ.F4</th>\n",
       "      <th>EQ.F8</th>\n",
       "      <th>EQ.AF4</th>\n",
       "      <th>MOT.CounterMems</th>\n",
       "      <td>MOT.InterpolatedMems</td>\n",
       "      <td>MOT.Q0</td>\n",
       "      <td>MOT.Q1</td>\n",
       "      <td>MOT.Q2</td>\n",
       "      <td>MOT.Q3</td>\n",
       "      <td>MOT.AccX</td>\n",
       "      <td>MOT.AccY</td>\n",
       "      <td>MOT.AccZ</td>\n",
       "      <td>MOT.MagX</td>\n",
       "      <td>MOT.MagY</td>\n",
       "      <td>MOT.MagZ</td>\n",
       "    </tr>\n",
       "    <tr>\n",
       "      <th>1689251982.047112</th>\n",
       "      <th>1689251982.047503</th>\n",
       "      <th>69.000000</th>\n",
       "      <th>0.000000</th>\n",
       "      <th>4437.820313</th>\n",
       "      <th>4400.128418</th>\n",
       "      <th>4391.153809</th>\n",
       "      <th>4440.256348</th>\n",
       "      <th>4408.974121</th>\n",
       "      <th>4418.461426</th>\n",
       "      <th>4445.769043</th>\n",
       "      <th>4429.615234</th>\n",
       "      <th>4402.307617</th>\n",
       "      <th>4402.179688</th>\n",
       "      <th>4645.897461</th>\n",
       "      <th>4608.846191</th>\n",
       "      <th>4590.384766</th>\n",
       "      <th>4596.538574</th>\n",
       "      <th>5016.000000</th>\n",
       "      <th>2.000000</th>\n",
       "      <th>46.000000</th>\n",
       "      <th>NaN</th>\n",
       "      <th>NaN</th>\n",
       "      <th>NaN</th>\n",
       "      <th>0.000000</th>\n",
       "      <th>4.000000</th>\n",
       "      <th>4.000000</th>\n",
       "      <th>0.000000</th>\n",
       "      <th>4.000000</th>\n",
       "      <th>4.000000</th>\n",
       "      <th>4.000000</th>\n",
       "      <th>4.000000</th>\n",
       "      <th>4.000000</th>\n",
       "      <th>4.000000</th>\n",
       "      <th>4.000000</th>\n",
       "      <th>4.000000</th>\n",
       "      <th>4.000000</th>\n",
       "      <th>4.000000</th>\n",
       "      <th>4.000000</th>\n",
       "      <th>66.666664</th>\n",
       "      <th>NaN</th>\n",
       "      <th>NaN</th>\n",
       "      <th>NaN</th>\n",
       "      <th>NaN</th>\n",
       "      <th>NaN</th>\n",
       "      <th>NaN</th>\n",
       "      <th>NaN</th>\n",
       "      <th>NaN</th>\n",
       "      <th>NaN</th>\n",
       "      <th>NaN</th>\n",
       "      <th>NaN</th>\n",
       "      <th>NaN</th>\n",
       "      <th>NaN</th>\n",
       "      <th>NaN</th>\n",
       "      <th>NaN</th>\n",
       "      <th>NaN</th>\n",
       "      <th>NaN</th>\n",
       "      <td>NaN</td>\n",
       "      <td>NaN</td>\n",
       "      <td>NaN</td>\n",
       "      <td>NaN</td>\n",
       "      <td>NaN</td>\n",
       "      <td>NaN</td>\n",
       "      <td>NaN</td>\n",
       "      <td>NaN</td>\n",
       "      <td>NaN</td>\n",
       "      <td>NaN</td>\n",
       "      <td>NaN</td>\n",
       "    </tr>\n",
       "    <tr>\n",
       "      <th>1689251982.054920</th>\n",
       "      <th>1689251982.055211</th>\n",
       "      <th>70.000000</th>\n",
       "      <th>0.000000</th>\n",
       "      <th>4438.717773</th>\n",
       "      <th>4405.769043</th>\n",
       "      <th>4394.871582</th>\n",
       "      <th>4437.692383</th>\n",
       "      <th>4412.307617</th>\n",
       "      <th>4422.179688</th>\n",
       "      <th>4445.128418</th>\n",
       "      <th>4429.615234</th>\n",
       "      <th>4401.153809</th>\n",
       "      <th>4391.153809</th>\n",
       "      <th>4648.077148</th>\n",
       "      <th>4607.563965</th>\n",
       "      <th>4594.230957</th>\n",
       "      <th>4597.948730</th>\n",
       "      <th>5198.000000</th>\n",
       "      <th>2.000000</th>\n",
       "      <th>46.000000</th>\n",
       "      <th>NaN</th>\n",
       "      <th>NaN</th>\n",
       "      <th>NaN</th>\n",
       "      <th>0.000000</th>\n",
       "      <th>4.000000</th>\n",
       "      <th>4.000000</th>\n",
       "      <th>0.000000</th>\n",
       "      <th>4.000000</th>\n",
       "      <th>4.000000</th>\n",
       "      <th>4.000000</th>\n",
       "      <th>4.000000</th>\n",
       "      <th>4.000000</th>\n",
       "      <th>4.000000</th>\n",
       "      <th>4.000000</th>\n",
       "      <th>4.000000</th>\n",
       "      <th>4.000000</th>\n",
       "      <th>4.000000</th>\n",
       "      <th>4.000000</th>\n",
       "      <th>66.666664</th>\n",
       "      <th>NaN</th>\n",
       "      <th>NaN</th>\n",
       "      <th>NaN</th>\n",
       "      <th>NaN</th>\n",
       "      <th>NaN</th>\n",
       "      <th>NaN</th>\n",
       "      <th>NaN</th>\n",
       "      <th>NaN</th>\n",
       "      <th>NaN</th>\n",
       "      <th>NaN</th>\n",
       "      <th>NaN</th>\n",
       "      <th>NaN</th>\n",
       "      <th>NaN</th>\n",
       "      <th>NaN</th>\n",
       "      <th>NaN</th>\n",
       "      <th>NaN</th>\n",
       "      <th>NaN</th>\n",
       "      <td>NaN</td>\n",
       "      <td>NaN</td>\n",
       "      <td>NaN</td>\n",
       "      <td>NaN</td>\n",
       "      <td>NaN</td>\n",
       "      <td>NaN</td>\n",
       "      <td>NaN</td>\n",
       "      <td>NaN</td>\n",
       "      <td>NaN</td>\n",
       "      <td>NaN</td>\n",
       "      <td>NaN</td>\n",
       "    </tr>\n",
       "    <tr>\n",
       "      <th>1689251982.062728</th>\n",
       "      <th>1689251982.063119</th>\n",
       "      <th>71.000000</th>\n",
       "      <th>0.000000</th>\n",
       "      <th>4432.948730</th>\n",
       "      <th>4401.666504</th>\n",
       "      <th>4393.717773</th>\n",
       "      <th>4429.230957</th>\n",
       "      <th>4412.948730</th>\n",
       "      <th>4424.487305</th>\n",
       "      <th>4448.333496</th>\n",
       "      <th>4430.000000</th>\n",
       "      <th>4402.692383</th>\n",
       "      <th>4361.922852</th>\n",
       "      <th>4648.717773</th>\n",
       "      <th>4607.307617</th>\n",
       "      <th>4583.717773</th>\n",
       "      <th>4591.794922</th>\n",
       "      <th>4236.000000</th>\n",
       "      <th>2.000000</th>\n",
       "      <th>46.000000</th>\n",
       "      <th>NaN</th>\n",
       "      <th>NaN</th>\n",
       "      <th>NaN</th>\n",
       "      <th>0.000000</th>\n",
       "      <th>4.000000</th>\n",
       "      <th>4.000000</th>\n",
       "      <th>0.000000</th>\n",
       "      <th>4.000000</th>\n",
       "      <th>4.000000</th>\n",
       "      <th>4.000000</th>\n",
       "      <th>4.000000</th>\n",
       "      <th>4.000000</th>\n",
       "      <th>4.000000</th>\n",
       "      <th>4.000000</th>\n",
       "      <th>4.000000</th>\n",
       "      <th>4.000000</th>\n",
       "      <th>4.000000</th>\n",
       "      <th>4.000000</th>\n",
       "      <th>66.666664</th>\n",
       "      <th>1.000000</th>\n",
       "      <th>16.666666</th>\n",
       "      <th>4.000000</th>\n",
       "      <th>4.000000</th>\n",
       "      <th>0.000000</th>\n",
       "      <th>4.000000</th>\n",
       "      <th>1.000000</th>\n",
       "      <th>3.000000</th>\n",
       "      <th>1.000000</th>\n",
       "      <th>4.000000</th>\n",
       "      <th>1.000000</th>\n",
       "      <th>1.000000</th>\n",
       "      <th>4.000000</th>\n",
       "      <th>4.000000</th>\n",
       "      <th>3.000000</th>\n",
       "      <th>4.000000</th>\n",
       "      <th>NaN</th>\n",
       "      <td>NaN</td>\n",
       "      <td>NaN</td>\n",
       "      <td>NaN</td>\n",
       "      <td>NaN</td>\n",
       "      <td>NaN</td>\n",
       "      <td>NaN</td>\n",
       "      <td>NaN</td>\n",
       "      <td>NaN</td>\n",
       "      <td>NaN</td>\n",
       "      <td>NaN</td>\n",
       "      <td>NaN</td>\n",
       "    </tr>\n",
       "    <tr>\n",
       "      <th>1689251982.070537</th>\n",
       "      <th>1689251982.070927</th>\n",
       "      <th>72.000000</th>\n",
       "      <th>0.000000</th>\n",
       "      <th>4431.153809</th>\n",
       "      <th>4399.871582</th>\n",
       "      <th>4393.846191</th>\n",
       "      <th>4435.641113</th>\n",
       "      <th>4416.282227</th>\n",
       "      <th>4426.282227</th>\n",
       "      <th>4454.358887</th>\n",
       "      <th>4432.820313</th>\n",
       "      <th>4404.102539</th>\n",
       "      <th>4385.897461</th>\n",
       "      <th>4641.538574</th>\n",
       "      <th>4608.846191</th>\n",
       "      <th>4573.589844</th>\n",
       "      <th>4588.077148</th>\n",
       "      <th>3535.000000</th>\n",
       "      <th>2.000000</th>\n",
       "      <th>46.000000</th>\n",
       "      <th>NaN</th>\n",
       "      <th>NaN</th>\n",
       "      <th>NaN</th>\n",
       "      <th>0.000000</th>\n",
       "      <th>4.000000</th>\n",
       "      <th>4.000000</th>\n",
       "      <th>0.000000</th>\n",
       "      <th>4.000000</th>\n",
       "      <th>4.000000</th>\n",
       "      <th>4.000000</th>\n",
       "      <th>4.000000</th>\n",
       "      <th>4.000000</th>\n",
       "      <th>4.000000</th>\n",
       "      <th>4.000000</th>\n",
       "      <th>4.000000</th>\n",
       "      <th>4.000000</th>\n",
       "      <th>4.000000</th>\n",
       "      <th>4.000000</th>\n",
       "      <th>66.666664</th>\n",
       "      <th>NaN</th>\n",
       "      <th>NaN</th>\n",
       "      <th>NaN</th>\n",
       "      <th>NaN</th>\n",
       "      <th>NaN</th>\n",
       "      <th>NaN</th>\n",
       "      <th>NaN</th>\n",
       "      <th>NaN</th>\n",
       "      <th>NaN</th>\n",
       "      <th>NaN</th>\n",
       "      <th>NaN</th>\n",
       "      <th>NaN</th>\n",
       "      <th>NaN</th>\n",
       "      <th>NaN</th>\n",
       "      <th>NaN</th>\n",
       "      <th>NaN</th>\n",
       "      <th>18.000000</th>\n",
       "      <td>0.000000</td>\n",
       "      <td>0.690993</td>\n",
       "      <td>-0.538940</td>\n",
       "      <td>-0.439880</td>\n",
       "      <td>-0.196411</td>\n",
       "      <td>0.803809</td>\n",
       "      <td>-0.573312</td>\n",
       "      <td>0.028324</td>\n",
       "      <td>-26.656399</td>\n",
       "      <td>-63.463982</td>\n",
       "      <td>6.673175</td>\n",
       "    </tr>\n",
       "    <tr>\n",
       "      <th>1689251982.078344</th>\n",
       "      <th>1689251982.078835</th>\n",
       "      <th>73.000000</th>\n",
       "      <th>0.000000</th>\n",
       "      <th>4435.384766</th>\n",
       "      <th>4404.743652</th>\n",
       "      <th>4386.025879</th>\n",
       "      <th>4446.794922</th>\n",
       "      <th>4420.256348</th>\n",
       "      <th>4421.666504</th>\n",
       "      <th>4450.256348</th>\n",
       "      <th>4433.205078</th>\n",
       "      <th>4404.615234</th>\n",
       "      <th>4402.436035</th>\n",
       "      <th>4638.717773</th>\n",
       "      <th>4611.538574</th>\n",
       "      <th>4578.589844</th>\n",
       "      <th>4594.871582</th>\n",
       "      <th>5273.000000</th>\n",
       "      <th>2.000000</th>\n",
       "      <th>46.000000</th>\n",
       "      <th>NaN</th>\n",
       "      <th>NaN</th>\n",
       "      <th>NaN</th>\n",
       "      <th>0.000000</th>\n",
       "      <th>4.000000</th>\n",
       "      <th>4.000000</th>\n",
       "      <th>0.000000</th>\n",
       "      <th>4.000000</th>\n",
       "      <th>4.000000</th>\n",
       "      <th>4.000000</th>\n",
       "      <th>4.000000</th>\n",
       "      <th>4.000000</th>\n",
       "      <th>4.000000</th>\n",
       "      <th>4.000000</th>\n",
       "      <th>4.000000</th>\n",
       "      <th>4.000000</th>\n",
       "      <th>4.000000</th>\n",
       "      <th>4.000000</th>\n",
       "      <th>66.666664</th>\n",
       "      <th>NaN</th>\n",
       "      <th>NaN</th>\n",
       "      <th>NaN</th>\n",
       "      <th>NaN</th>\n",
       "      <th>NaN</th>\n",
       "      <th>NaN</th>\n",
       "      <th>NaN</th>\n",
       "      <th>NaN</th>\n",
       "      <th>NaN</th>\n",
       "      <th>NaN</th>\n",
       "      <th>NaN</th>\n",
       "      <th>NaN</th>\n",
       "      <th>NaN</th>\n",
       "      <th>NaN</th>\n",
       "      <th>NaN</th>\n",
       "      <th>NaN</th>\n",
       "      <th>NaN</th>\n",
       "      <td>NaN</td>\n",
       "      <td>NaN</td>\n",
       "      <td>NaN</td>\n",
       "      <td>NaN</td>\n",
       "      <td>NaN</td>\n",
       "      <td>NaN</td>\n",
       "      <td>NaN</td>\n",
       "      <td>NaN</td>\n",
       "      <td>NaN</td>\n",
       "      <td>NaN</td>\n",
       "      <td>NaN</td>\n",
       "    </tr>\n",
       "    <tr>\n",
       "      <th>1689251982.086153</th>\n",
       "      <th>1689251982.086643</th>\n",
       "      <th>74.000000</th>\n",
       "      <th>0.000000</th>\n",
       "      <th>4436.538574</th>\n",
       "      <th>4407.051270</th>\n",
       "      <th>4386.282227</th>\n",
       "      <th>4441.538574</th>\n",
       "      <th>4411.666504</th>\n",
       "      <th>4412.051270</th>\n",
       "      <th>4440.256348</th>\n",
       "      <th>4426.153809</th>\n",
       "      <th>4402.820313</th>\n",
       "      <th>4380.000000</th>\n",
       "      <th>4640.256348</th>\n",
       "      <th>4608.717773</th>\n",
       "      <th>4581.666504</th>\n",
       "      <th>4596.025879</th>\n",
       "      <th>6077.000000</th>\n",
       "      <th>2.000000</th>\n",
       "      <th>46.000000</th>\n",
       "      <th>NaN</th>\n",
       "      <th>NaN</th>\n",
       "      <th>NaN</th>\n",
       "      <th>0.000000</th>\n",
       "      <th>4.000000</th>\n",
       "      <th>4.000000</th>\n",
       "      <th>0.000000</th>\n",
       "      <th>4.000000</th>\n",
       "      <th>4.000000</th>\n",
       "      <th>4.000000</th>\n",
       "      <th>4.000000</th>\n",
       "      <th>4.000000</th>\n",
       "      <th>4.000000</th>\n",
       "      <th>4.000000</th>\n",
       "      <th>4.000000</th>\n",
       "      <th>4.000000</th>\n",
       "      <th>4.000000</th>\n",
       "      <th>4.000000</th>\n",
       "      <th>66.666664</th>\n",
       "      <th>NaN</th>\n",
       "      <th>NaN</th>\n",
       "      <th>NaN</th>\n",
       "      <th>NaN</th>\n",
       "      <th>NaN</th>\n",
       "      <th>NaN</th>\n",
       "      <th>NaN</th>\n",
       "      <th>NaN</th>\n",
       "      <th>NaN</th>\n",
       "      <th>NaN</th>\n",
       "      <th>NaN</th>\n",
       "      <th>NaN</th>\n",
       "      <th>NaN</th>\n",
       "      <th>NaN</th>\n",
       "      <th>NaN</th>\n",
       "      <th>NaN</th>\n",
       "      <th>NaN</th>\n",
       "      <td>NaN</td>\n",
       "      <td>NaN</td>\n",
       "      <td>NaN</td>\n",
       "      <td>NaN</td>\n",
       "      <td>NaN</td>\n",
       "      <td>NaN</td>\n",
       "      <td>NaN</td>\n",
       "      <td>NaN</td>\n",
       "      <td>NaN</td>\n",
       "      <td>NaN</td>\n",
       "      <td>NaN</td>\n",
       "    </tr>\n",
       "    <tr>\n",
       "      <th>1689251982.093961</th>\n",
       "      <th>1689251982.094551</th>\n",
       "      <th>75.000000</th>\n",
       "      <th>0.000000</th>\n",
       "      <th>4436.025879</th>\n",
       "      <th>4401.922852</th>\n",
       "      <th>4381.025879</th>\n",
       "      <th>4432.436035</th>\n",
       "      <th>4404.615234</th>\n",
       "      <th>4410.769043</th>\n",
       "      <th>4440.128418</th>\n",
       "      <th>4421.922852</th>\n",
       "      <th>4402.563965</th>\n",
       "      <th>4376.922852</th>\n",
       "      <th>4641.538574</th>\n",
       "      <th>4602.692383</th>\n",
       "      <th>4578.333496</th>\n",
       "      <th>4590.128418</th>\n",
       "      <th>6219.000000</th>\n",
       "      <th>2.000000</th>\n",
       "      <th>46.000000</th>\n",
       "      <th>NaN</th>\n",
       "      <th>NaN</th>\n",
       "      <th>NaN</th>\n",
       "      <th>0.000000</th>\n",
       "      <th>4.000000</th>\n",
       "      <th>4.000000</th>\n",
       "      <th>0.000000</th>\n",
       "      <th>4.000000</th>\n",
       "      <th>4.000000</th>\n",
       "      <th>4.000000</th>\n",
       "      <th>4.000000</th>\n",
       "      <th>4.000000</th>\n",
       "      <th>4.000000</th>\n",
       "      <th>4.000000</th>\n",
       "      <th>4.000000</th>\n",
       "      <th>4.000000</th>\n",
       "      <th>4.000000</th>\n",
       "      <th>4.000000</th>\n",
       "      <th>66.666664</th>\n",
       "      <th>NaN</th>\n",
       "      <th>NaN</th>\n",
       "      <th>NaN</th>\n",
       "      <th>NaN</th>\n",
       "      <th>NaN</th>\n",
       "      <th>NaN</th>\n",
       "      <th>NaN</th>\n",
       "      <th>NaN</th>\n",
       "      <th>NaN</th>\n",
       "      <th>NaN</th>\n",
       "      <th>NaN</th>\n",
       "      <th>NaN</th>\n",
       "      <th>NaN</th>\n",
       "      <th>NaN</th>\n",
       "      <th>NaN</th>\n",
       "      <th>NaN</th>\n",
       "      <th>NaN</th>\n",
       "      <td>NaN</td>\n",
       "      <td>NaN</td>\n",
       "      <td>NaN</td>\n",
       "      <td>NaN</td>\n",
       "      <td>NaN</td>\n",
       "      <td>NaN</td>\n",
       "      <td>NaN</td>\n",
       "      <td>NaN</td>\n",
       "      <td>NaN</td>\n",
       "      <td>NaN</td>\n",
       "      <td>NaN</td>\n",
       "    </tr>\n",
       "    <tr>\n",
       "      <th>1689251982.101769</th>\n",
       "      <th>1689251982.102459</th>\n",
       "      <th>76.000000</th>\n",
       "      <th>0.000000</th>\n",
       "      <th>4435.384766</th>\n",
       "      <th>4394.487305</th>\n",
       "      <th>4390.512695</th>\n",
       "      <th>4432.948730</th>\n",
       "      <th>4408.589844</th>\n",
       "      <th>4416.410156</th>\n",
       "      <th>4447.179688</th>\n",
       "      <th>4428.077148</th>\n",
       "      <th>4406.025879</th>\n",
       "      <th>4374.102539</th>\n",
       "      <th>4641.282227</th>\n",
       "      <th>4604.230957</th>\n",
       "      <th>4578.205078</th>\n",
       "      <th>4591.410156</th>\n",
       "      <th>6501.000000</th>\n",
       "      <th>2.000000</th>\n",
       "      <th>46.000000</th>\n",
       "      <th>NaN</th>\n",
       "      <th>NaN</th>\n",
       "      <th>NaN</th>\n",
       "      <th>0.000000</th>\n",
       "      <th>4.000000</th>\n",
       "      <th>4.000000</th>\n",
       "      <th>0.000000</th>\n",
       "      <th>4.000000</th>\n",
       "      <th>4.000000</th>\n",
       "      <th>4.000000</th>\n",
       "      <th>4.000000</th>\n",
       "      <th>4.000000</th>\n",
       "      <th>4.000000</th>\n",
       "      <th>4.000000</th>\n",
       "      <th>4.000000</th>\n",
       "      <th>4.000000</th>\n",
       "      <th>4.000000</th>\n",
       "      <th>4.000000</th>\n",
       "      <th>66.666664</th>\n",
       "      <th>NaN</th>\n",
       "      <th>NaN</th>\n",
       "      <th>NaN</th>\n",
       "      <th>NaN</th>\n",
       "      <th>NaN</th>\n",
       "      <th>NaN</th>\n",
       "      <th>NaN</th>\n",
       "      <th>NaN</th>\n",
       "      <th>NaN</th>\n",
       "      <th>NaN</th>\n",
       "      <th>NaN</th>\n",
       "      <th>NaN</th>\n",
       "      <th>NaN</th>\n",
       "      <th>NaN</th>\n",
       "      <th>NaN</th>\n",
       "      <th>NaN</th>\n",
       "      <th>19.000000</th>\n",
       "      <td>0.000000</td>\n",
       "      <td>0.690902</td>\n",
       "      <td>-0.539063</td>\n",
       "      <td>-0.439819</td>\n",
       "      <td>-0.196533</td>\n",
       "      <td>0.800879</td>\n",
       "      <td>-0.573801</td>\n",
       "      <td>0.039067</td>\n",
       "      <td>-26.707424</td>\n",
       "      <td>-63.400913</td>\n",
       "      <td>6.639191</td>\n",
       "    </tr>\n",
       "    <tr>\n",
       "      <th>1689251982.109577</th>\n",
       "      <th>1689251982.110266</th>\n",
       "      <th>77.000000</th>\n",
       "      <th>0.000000</th>\n",
       "      <th>4429.743652</th>\n",
       "      <th>4391.538574</th>\n",
       "      <th>4387.692383</th>\n",
       "      <th>4428.205078</th>\n",
       "      <th>4406.794922</th>\n",
       "      <th>4413.717773</th>\n",
       "      <th>4447.051270</th>\n",
       "      <th>4433.077148</th>\n",
       "      <th>4405.769043</th>\n",
       "      <th>4344.230957</th>\n",
       "      <th>4637.307617</th>\n",
       "      <th>4604.358887</th>\n",
       "      <th>4573.461426</th>\n",
       "      <th>4591.666504</th>\n",
       "      <th>6217.000000</th>\n",
       "      <th>2.000000</th>\n",
       "      <th>46.000000</th>\n",
       "      <th>NaN</th>\n",
       "      <th>NaN</th>\n",
       "      <th>NaN</th>\n",
       "      <th>0.000000</th>\n",
       "      <th>4.000000</th>\n",
       "      <th>4.000000</th>\n",
       "      <th>0.000000</th>\n",
       "      <th>4.000000</th>\n",
       "      <th>4.000000</th>\n",
       "      <th>4.000000</th>\n",
       "      <th>4.000000</th>\n",
       "      <th>4.000000</th>\n",
       "      <th>4.000000</th>\n",
       "      <th>4.000000</th>\n",
       "      <th>4.000000</th>\n",
       "      <th>4.000000</th>\n",
       "      <th>4.000000</th>\n",
       "      <th>4.000000</th>\n",
       "      <th>66.666664</th>\n",
       "      <th>NaN</th>\n",
       "      <th>NaN</th>\n",
       "      <th>NaN</th>\n",
       "      <th>NaN</th>\n",
       "      <th>NaN</th>\n",
       "      <th>NaN</th>\n",
       "      <th>NaN</th>\n",
       "      <th>NaN</th>\n",
       "      <th>NaN</th>\n",
       "      <th>NaN</th>\n",
       "      <th>NaN</th>\n",
       "      <th>NaN</th>\n",
       "      <th>NaN</th>\n",
       "      <th>NaN</th>\n",
       "      <th>NaN</th>\n",
       "      <th>NaN</th>\n",
       "      <th>NaN</th>\n",
       "      <td>NaN</td>\n",
       "      <td>NaN</td>\n",
       "      <td>NaN</td>\n",
       "      <td>NaN</td>\n",
       "      <td>NaN</td>\n",
       "      <td>NaN</td>\n",
       "      <td>NaN</td>\n",
       "      <td>NaN</td>\n",
       "      <td>NaN</td>\n",
       "      <td>NaN</td>\n",
       "      <td>NaN</td>\n",
       "    </tr>\n",
       "  </tbody>\n",
       "</table>\n",
       "</div>"
      ],
      "text/plain": [
       "                                                                                                                                                                                                                                                                                                                                                                                                                                                                                                                                                                                                                                                                               title:test  \\\n",
       "Timestamp         OriginalTimestamp EEG.Counter EEG.Interpolated EEG.AF3     EEG.F7      EEG.F3      EEG.FC5     EEG.T7      EEG.P7      EEG.O1      EEG.O2      EEG.P8      EEG.T8      EEG.FC6     EEG.F4      EEG.F8      EEG.AF4     EEG.RawCq   EEG.Battery EEG.BatteryPercent MarkerIndex MarkerType MarkerValueInt EEG.MarkerHardware CQ.AF3   CQ.F7    CQ.F3    CQ.FC5   CQ.T7    CQ.P7    CQ.O1    CQ.O2    CQ.P8    CQ.T8    CQ.FC6   CQ.F4    CQ.F8    CQ.AF4   CQ.Overall EQ.SampleRateQuality EQ.OVERALL EQ.AF3   EQ.F7    EQ.F3    EQ.FC5   EQ.T7    EQ.P7    EQ.O1    EQ.O2    EQ.P8    EQ.T8    EQ.FC6   EQ.F4    EQ.F8    EQ.AF4   MOT.CounterMems  MOT.InterpolatedMems   \n",
       "1689251982.047112 1689251982.047503 69.000000   0.000000         4437.820313 4400.128418 4391.153809 4440.256348 4408.974121 4418.461426 4445.769043 4429.615234 4402.307617 4402.179688 4645.897461 4608.846191 4590.384766 4596.538574 5016.000000 2.000000    46.000000          NaN         NaN        NaN            0.000000           4.000000 4.000000 0.000000 4.000000 4.000000 4.000000 4.000000 4.000000 4.000000 4.000000 4.000000 4.000000 4.000000 4.000000 66.666664  NaN                  NaN        NaN      NaN      NaN      NaN      NaN      NaN      NaN      NaN      NaN      NaN      NaN      NaN      NaN      NaN      NaN                               NaN   \n",
       "1689251982.054920 1689251982.055211 70.000000   0.000000         4438.717773 4405.769043 4394.871582 4437.692383 4412.307617 4422.179688 4445.128418 4429.615234 4401.153809 4391.153809 4648.077148 4607.563965 4594.230957 4597.948730 5198.000000 2.000000    46.000000          NaN         NaN        NaN            0.000000           4.000000 4.000000 0.000000 4.000000 4.000000 4.000000 4.000000 4.000000 4.000000 4.000000 4.000000 4.000000 4.000000 4.000000 66.666664  NaN                  NaN        NaN      NaN      NaN      NaN      NaN      NaN      NaN      NaN      NaN      NaN      NaN      NaN      NaN      NaN      NaN                               NaN   \n",
       "1689251982.062728 1689251982.063119 71.000000   0.000000         4432.948730 4401.666504 4393.717773 4429.230957 4412.948730 4424.487305 4448.333496 4430.000000 4402.692383 4361.922852 4648.717773 4607.307617 4583.717773 4591.794922 4236.000000 2.000000    46.000000          NaN         NaN        NaN            0.000000           4.000000 4.000000 0.000000 4.000000 4.000000 4.000000 4.000000 4.000000 4.000000 4.000000 4.000000 4.000000 4.000000 4.000000 66.666664  1.000000             16.666666  4.000000 4.000000 0.000000 4.000000 1.000000 3.000000 1.000000 4.000000 1.000000 1.000000 4.000000 4.000000 3.000000 4.000000 NaN                               NaN   \n",
       "1689251982.070537 1689251982.070927 72.000000   0.000000         4431.153809 4399.871582 4393.846191 4435.641113 4416.282227 4426.282227 4454.358887 4432.820313 4404.102539 4385.897461 4641.538574 4608.846191 4573.589844 4588.077148 3535.000000 2.000000    46.000000          NaN         NaN        NaN            0.000000           4.000000 4.000000 0.000000 4.000000 4.000000 4.000000 4.000000 4.000000 4.000000 4.000000 4.000000 4.000000 4.000000 4.000000 66.666664  NaN                  NaN        NaN      NaN      NaN      NaN      NaN      NaN      NaN      NaN      NaN      NaN      NaN      NaN      NaN      NaN      18.000000                    0.000000   \n",
       "1689251982.078344 1689251982.078835 73.000000   0.000000         4435.384766 4404.743652 4386.025879 4446.794922 4420.256348 4421.666504 4450.256348 4433.205078 4404.615234 4402.436035 4638.717773 4611.538574 4578.589844 4594.871582 5273.000000 2.000000    46.000000          NaN         NaN        NaN            0.000000           4.000000 4.000000 0.000000 4.000000 4.000000 4.000000 4.000000 4.000000 4.000000 4.000000 4.000000 4.000000 4.000000 4.000000 66.666664  NaN                  NaN        NaN      NaN      NaN      NaN      NaN      NaN      NaN      NaN      NaN      NaN      NaN      NaN      NaN      NaN      NaN                               NaN   \n",
       "1689251982.086153 1689251982.086643 74.000000   0.000000         4436.538574 4407.051270 4386.282227 4441.538574 4411.666504 4412.051270 4440.256348 4426.153809 4402.820313 4380.000000 4640.256348 4608.717773 4581.666504 4596.025879 6077.000000 2.000000    46.000000          NaN         NaN        NaN            0.000000           4.000000 4.000000 0.000000 4.000000 4.000000 4.000000 4.000000 4.000000 4.000000 4.000000 4.000000 4.000000 4.000000 4.000000 66.666664  NaN                  NaN        NaN      NaN      NaN      NaN      NaN      NaN      NaN      NaN      NaN      NaN      NaN      NaN      NaN      NaN      NaN                               NaN   \n",
       "1689251982.093961 1689251982.094551 75.000000   0.000000         4436.025879 4401.922852 4381.025879 4432.436035 4404.615234 4410.769043 4440.128418 4421.922852 4402.563965 4376.922852 4641.538574 4602.692383 4578.333496 4590.128418 6219.000000 2.000000    46.000000          NaN         NaN        NaN            0.000000           4.000000 4.000000 0.000000 4.000000 4.000000 4.000000 4.000000 4.000000 4.000000 4.000000 4.000000 4.000000 4.000000 4.000000 66.666664  NaN                  NaN        NaN      NaN      NaN      NaN      NaN      NaN      NaN      NaN      NaN      NaN      NaN      NaN      NaN      NaN      NaN                               NaN   \n",
       "1689251982.101769 1689251982.102459 76.000000   0.000000         4435.384766 4394.487305 4390.512695 4432.948730 4408.589844 4416.410156 4447.179688 4428.077148 4406.025879 4374.102539 4641.282227 4604.230957 4578.205078 4591.410156 6501.000000 2.000000    46.000000          NaN         NaN        NaN            0.000000           4.000000 4.000000 0.000000 4.000000 4.000000 4.000000 4.000000 4.000000 4.000000 4.000000 4.000000 4.000000 4.000000 4.000000 66.666664  NaN                  NaN        NaN      NaN      NaN      NaN      NaN      NaN      NaN      NaN      NaN      NaN      NaN      NaN      NaN      NaN      19.000000                    0.000000   \n",
       "1689251982.109577 1689251982.110266 77.000000   0.000000         4429.743652 4391.538574 4387.692383 4428.205078 4406.794922 4413.717773 4447.051270 4433.077148 4405.769043 4344.230957 4637.307617 4604.358887 4573.461426 4591.666504 6217.000000 2.000000    46.000000          NaN         NaN        NaN            0.000000           4.000000 4.000000 0.000000 4.000000 4.000000 4.000000 4.000000 4.000000 4.000000 4.000000 4.000000 4.000000 4.000000 4.000000 66.666664  NaN                  NaN        NaN      NaN      NaN      NaN      NaN      NaN      NaN      NaN      NaN      NaN      NaN      NaN      NaN      NaN      NaN                               NaN   \n",
       "\n",
       "                                                                                                                                                                                                                                                                                                                                                                                                                                                                                                                                                                                                                                                                     start timestamp:1689251982.047112  \\\n",
       "Timestamp         OriginalTimestamp EEG.Counter EEG.Interpolated EEG.AF3     EEG.F7      EEG.F3      EEG.FC5     EEG.T7      EEG.P7      EEG.O1      EEG.O2      EEG.P8      EEG.T8      EEG.FC6     EEG.F4      EEG.F8      EEG.AF4     EEG.RawCq   EEG.Battery EEG.BatteryPercent MarkerIndex MarkerType MarkerValueInt EEG.MarkerHardware CQ.AF3   CQ.F7    CQ.F3    CQ.FC5   CQ.T7    CQ.P7    CQ.O1    CQ.O2    CQ.P8    CQ.T8    CQ.FC6   CQ.F4    CQ.F8    CQ.AF4   CQ.Overall EQ.SampleRateQuality EQ.OVERALL EQ.AF3   EQ.F7    EQ.F3    EQ.FC5   EQ.T7    EQ.P7    EQ.O1    EQ.O2    EQ.P8    EQ.T8    EQ.FC6   EQ.F4    EQ.F8    EQ.AF4   MOT.CounterMems                             MOT.Q0   \n",
       "1689251982.047112 1689251982.047503 69.000000   0.000000         4437.820313 4400.128418 4391.153809 4440.256348 4408.974121 4418.461426 4445.769043 4429.615234 4402.307617 4402.179688 4645.897461 4608.846191 4590.384766 4596.538574 5016.000000 2.000000    46.000000          NaN         NaN        NaN            0.000000           4.000000 4.000000 0.000000 4.000000 4.000000 4.000000 4.000000 4.000000 4.000000 4.000000 4.000000 4.000000 4.000000 4.000000 66.666664  NaN                  NaN        NaN      NaN      NaN      NaN      NaN      NaN      NaN      NaN      NaN      NaN      NaN      NaN      NaN      NaN      NaN                                            NaN   \n",
       "1689251982.054920 1689251982.055211 70.000000   0.000000         4438.717773 4405.769043 4394.871582 4437.692383 4412.307617 4422.179688 4445.128418 4429.615234 4401.153809 4391.153809 4648.077148 4607.563965 4594.230957 4597.948730 5198.000000 2.000000    46.000000          NaN         NaN        NaN            0.000000           4.000000 4.000000 0.000000 4.000000 4.000000 4.000000 4.000000 4.000000 4.000000 4.000000 4.000000 4.000000 4.000000 4.000000 66.666664  NaN                  NaN        NaN      NaN      NaN      NaN      NaN      NaN      NaN      NaN      NaN      NaN      NaN      NaN      NaN      NaN      NaN                                            NaN   \n",
       "1689251982.062728 1689251982.063119 71.000000   0.000000         4432.948730 4401.666504 4393.717773 4429.230957 4412.948730 4424.487305 4448.333496 4430.000000 4402.692383 4361.922852 4648.717773 4607.307617 4583.717773 4591.794922 4236.000000 2.000000    46.000000          NaN         NaN        NaN            0.000000           4.000000 4.000000 0.000000 4.000000 4.000000 4.000000 4.000000 4.000000 4.000000 4.000000 4.000000 4.000000 4.000000 4.000000 66.666664  1.000000             16.666666  4.000000 4.000000 0.000000 4.000000 1.000000 3.000000 1.000000 4.000000 1.000000 1.000000 4.000000 4.000000 3.000000 4.000000 NaN                                            NaN   \n",
       "1689251982.070537 1689251982.070927 72.000000   0.000000         4431.153809 4399.871582 4393.846191 4435.641113 4416.282227 4426.282227 4454.358887 4432.820313 4404.102539 4385.897461 4641.538574 4608.846191 4573.589844 4588.077148 3535.000000 2.000000    46.000000          NaN         NaN        NaN            0.000000           4.000000 4.000000 0.000000 4.000000 4.000000 4.000000 4.000000 4.000000 4.000000 4.000000 4.000000 4.000000 4.000000 4.000000 66.666664  NaN                  NaN        NaN      NaN      NaN      NaN      NaN      NaN      NaN      NaN      NaN      NaN      NaN      NaN      NaN      NaN      18.000000                                 0.690993   \n",
       "1689251982.078344 1689251982.078835 73.000000   0.000000         4435.384766 4404.743652 4386.025879 4446.794922 4420.256348 4421.666504 4450.256348 4433.205078 4404.615234 4402.436035 4638.717773 4611.538574 4578.589844 4594.871582 5273.000000 2.000000    46.000000          NaN         NaN        NaN            0.000000           4.000000 4.000000 0.000000 4.000000 4.000000 4.000000 4.000000 4.000000 4.000000 4.000000 4.000000 4.000000 4.000000 4.000000 66.666664  NaN                  NaN        NaN      NaN      NaN      NaN      NaN      NaN      NaN      NaN      NaN      NaN      NaN      NaN      NaN      NaN      NaN                                            NaN   \n",
       "1689251982.086153 1689251982.086643 74.000000   0.000000         4436.538574 4407.051270 4386.282227 4441.538574 4411.666504 4412.051270 4440.256348 4426.153809 4402.820313 4380.000000 4640.256348 4608.717773 4581.666504 4596.025879 6077.000000 2.000000    46.000000          NaN         NaN        NaN            0.000000           4.000000 4.000000 0.000000 4.000000 4.000000 4.000000 4.000000 4.000000 4.000000 4.000000 4.000000 4.000000 4.000000 4.000000 66.666664  NaN                  NaN        NaN      NaN      NaN      NaN      NaN      NaN      NaN      NaN      NaN      NaN      NaN      NaN      NaN      NaN      NaN                                            NaN   \n",
       "1689251982.093961 1689251982.094551 75.000000   0.000000         4436.025879 4401.922852 4381.025879 4432.436035 4404.615234 4410.769043 4440.128418 4421.922852 4402.563965 4376.922852 4641.538574 4602.692383 4578.333496 4590.128418 6219.000000 2.000000    46.000000          NaN         NaN        NaN            0.000000           4.000000 4.000000 0.000000 4.000000 4.000000 4.000000 4.000000 4.000000 4.000000 4.000000 4.000000 4.000000 4.000000 4.000000 66.666664  NaN                  NaN        NaN      NaN      NaN      NaN      NaN      NaN      NaN      NaN      NaN      NaN      NaN      NaN      NaN      NaN      NaN                                            NaN   \n",
       "1689251982.101769 1689251982.102459 76.000000   0.000000         4435.384766 4394.487305 4390.512695 4432.948730 4408.589844 4416.410156 4447.179688 4428.077148 4406.025879 4374.102539 4641.282227 4604.230957 4578.205078 4591.410156 6501.000000 2.000000    46.000000          NaN         NaN        NaN            0.000000           4.000000 4.000000 0.000000 4.000000 4.000000 4.000000 4.000000 4.000000 4.000000 4.000000 4.000000 4.000000 4.000000 4.000000 66.666664  NaN                  NaN        NaN      NaN      NaN      NaN      NaN      NaN      NaN      NaN      NaN      NaN      NaN      NaN      NaN      NaN      19.000000                                 0.690902   \n",
       "1689251982.109577 1689251982.110266 77.000000   0.000000         4429.743652 4391.538574 4387.692383 4428.205078 4406.794922 4413.717773 4447.051270 4433.077148 4405.769043 4344.230957 4637.307617 4604.358887 4573.461426 4591.666504 6217.000000 2.000000    46.000000          NaN         NaN        NaN            0.000000           4.000000 4.000000 0.000000 4.000000 4.000000 4.000000 4.000000 4.000000 4.000000 4.000000 4.000000 4.000000 4.000000 4.000000 66.666664  NaN                  NaN        NaN      NaN      NaN      NaN      NaN      NaN      NaN      NaN      NaN      NaN      NaN      NaN      NaN      NaN      NaN                                            NaN   \n",
       "\n",
       "                                                                                                                                                                                                                                                                                                                                                                                                                                                                                                                                                                                                                                                                     stop timestamp:1689252058.536061  \\\n",
       "Timestamp         OriginalTimestamp EEG.Counter EEG.Interpolated EEG.AF3     EEG.F7      EEG.F3      EEG.FC5     EEG.T7      EEG.P7      EEG.O1      EEG.O2      EEG.P8      EEG.T8      EEG.FC6     EEG.F4      EEG.F8      EEG.AF4     EEG.RawCq   EEG.Battery EEG.BatteryPercent MarkerIndex MarkerType MarkerValueInt EEG.MarkerHardware CQ.AF3   CQ.F7    CQ.F3    CQ.FC5   CQ.T7    CQ.P7    CQ.O1    CQ.O2    CQ.P8    CQ.T8    CQ.FC6   CQ.F4    CQ.F8    CQ.AF4   CQ.Overall EQ.SampleRateQuality EQ.OVERALL EQ.AF3   EQ.F7    EQ.F3    EQ.FC5   EQ.T7    EQ.P7    EQ.O1    EQ.O2    EQ.P8    EQ.T8    EQ.FC6   EQ.F4    EQ.F8    EQ.AF4   MOT.CounterMems                            MOT.Q1   \n",
       "1689251982.047112 1689251982.047503 69.000000   0.000000         4437.820313 4400.128418 4391.153809 4440.256348 4408.974121 4418.461426 4445.769043 4429.615234 4402.307617 4402.179688 4645.897461 4608.846191 4590.384766 4596.538574 5016.000000 2.000000    46.000000          NaN         NaN        NaN            0.000000           4.000000 4.000000 0.000000 4.000000 4.000000 4.000000 4.000000 4.000000 4.000000 4.000000 4.000000 4.000000 4.000000 4.000000 66.666664  NaN                  NaN        NaN      NaN      NaN      NaN      NaN      NaN      NaN      NaN      NaN      NaN      NaN      NaN      NaN      NaN      NaN                                           NaN   \n",
       "1689251982.054920 1689251982.055211 70.000000   0.000000         4438.717773 4405.769043 4394.871582 4437.692383 4412.307617 4422.179688 4445.128418 4429.615234 4401.153809 4391.153809 4648.077148 4607.563965 4594.230957 4597.948730 5198.000000 2.000000    46.000000          NaN         NaN        NaN            0.000000           4.000000 4.000000 0.000000 4.000000 4.000000 4.000000 4.000000 4.000000 4.000000 4.000000 4.000000 4.000000 4.000000 4.000000 66.666664  NaN                  NaN        NaN      NaN      NaN      NaN      NaN      NaN      NaN      NaN      NaN      NaN      NaN      NaN      NaN      NaN      NaN                                           NaN   \n",
       "1689251982.062728 1689251982.063119 71.000000   0.000000         4432.948730 4401.666504 4393.717773 4429.230957 4412.948730 4424.487305 4448.333496 4430.000000 4402.692383 4361.922852 4648.717773 4607.307617 4583.717773 4591.794922 4236.000000 2.000000    46.000000          NaN         NaN        NaN            0.000000           4.000000 4.000000 0.000000 4.000000 4.000000 4.000000 4.000000 4.000000 4.000000 4.000000 4.000000 4.000000 4.000000 4.000000 66.666664  1.000000             16.666666  4.000000 4.000000 0.000000 4.000000 1.000000 3.000000 1.000000 4.000000 1.000000 1.000000 4.000000 4.000000 3.000000 4.000000 NaN                                           NaN   \n",
       "1689251982.070537 1689251982.070927 72.000000   0.000000         4431.153809 4399.871582 4393.846191 4435.641113 4416.282227 4426.282227 4454.358887 4432.820313 4404.102539 4385.897461 4641.538574 4608.846191 4573.589844 4588.077148 3535.000000 2.000000    46.000000          NaN         NaN        NaN            0.000000           4.000000 4.000000 0.000000 4.000000 4.000000 4.000000 4.000000 4.000000 4.000000 4.000000 4.000000 4.000000 4.000000 4.000000 66.666664  NaN                  NaN        NaN      NaN      NaN      NaN      NaN      NaN      NaN      NaN      NaN      NaN      NaN      NaN      NaN      NaN      18.000000                               -0.538940   \n",
       "1689251982.078344 1689251982.078835 73.000000   0.000000         4435.384766 4404.743652 4386.025879 4446.794922 4420.256348 4421.666504 4450.256348 4433.205078 4404.615234 4402.436035 4638.717773 4611.538574 4578.589844 4594.871582 5273.000000 2.000000    46.000000          NaN         NaN        NaN            0.000000           4.000000 4.000000 0.000000 4.000000 4.000000 4.000000 4.000000 4.000000 4.000000 4.000000 4.000000 4.000000 4.000000 4.000000 66.666664  NaN                  NaN        NaN      NaN      NaN      NaN      NaN      NaN      NaN      NaN      NaN      NaN      NaN      NaN      NaN      NaN      NaN                                           NaN   \n",
       "1689251982.086153 1689251982.086643 74.000000   0.000000         4436.538574 4407.051270 4386.282227 4441.538574 4411.666504 4412.051270 4440.256348 4426.153809 4402.820313 4380.000000 4640.256348 4608.717773 4581.666504 4596.025879 6077.000000 2.000000    46.000000          NaN         NaN        NaN            0.000000           4.000000 4.000000 0.000000 4.000000 4.000000 4.000000 4.000000 4.000000 4.000000 4.000000 4.000000 4.000000 4.000000 4.000000 66.666664  NaN                  NaN        NaN      NaN      NaN      NaN      NaN      NaN      NaN      NaN      NaN      NaN      NaN      NaN      NaN      NaN      NaN                                           NaN   \n",
       "1689251982.093961 1689251982.094551 75.000000   0.000000         4436.025879 4401.922852 4381.025879 4432.436035 4404.615234 4410.769043 4440.128418 4421.922852 4402.563965 4376.922852 4641.538574 4602.692383 4578.333496 4590.128418 6219.000000 2.000000    46.000000          NaN         NaN        NaN            0.000000           4.000000 4.000000 0.000000 4.000000 4.000000 4.000000 4.000000 4.000000 4.000000 4.000000 4.000000 4.000000 4.000000 4.000000 66.666664  NaN                  NaN        NaN      NaN      NaN      NaN      NaN      NaN      NaN      NaN      NaN      NaN      NaN      NaN      NaN      NaN      NaN                                           NaN   \n",
       "1689251982.101769 1689251982.102459 76.000000   0.000000         4435.384766 4394.487305 4390.512695 4432.948730 4408.589844 4416.410156 4447.179688 4428.077148 4406.025879 4374.102539 4641.282227 4604.230957 4578.205078 4591.410156 6501.000000 2.000000    46.000000          NaN         NaN        NaN            0.000000           4.000000 4.000000 0.000000 4.000000 4.000000 4.000000 4.000000 4.000000 4.000000 4.000000 4.000000 4.000000 4.000000 4.000000 66.666664  NaN                  NaN        NaN      NaN      NaN      NaN      NaN      NaN      NaN      NaN      NaN      NaN      NaN      NaN      NaN      NaN      19.000000                               -0.539063   \n",
       "1689251982.109577 1689251982.110266 77.000000   0.000000         4429.743652 4391.538574 4387.692383 4428.205078 4406.794922 4413.717773 4447.051270 4433.077148 4405.769043 4344.230957 4637.307617 4604.358887 4573.461426 4591.666504 6217.000000 2.000000    46.000000          NaN         NaN        NaN            0.000000           4.000000 4.000000 0.000000 4.000000 4.000000 4.000000 4.000000 4.000000 4.000000 4.000000 4.000000 4.000000 4.000000 4.000000 66.666664  NaN                  NaN        NaN      NaN      NaN      NaN      NaN      NaN      NaN      NaN      NaN      NaN      NaN      NaN      NaN      NaN      NaN                                           NaN   \n",
       "\n",
       "                                                                                                                                                                                                                                                                                                                                                                                                                                                                                                                                                                                                                                                                     headset type:EPOCX  \\\n",
       "Timestamp         OriginalTimestamp EEG.Counter EEG.Interpolated EEG.AF3     EEG.F7      EEG.F3      EEG.FC5     EEG.T7      EEG.P7      EEG.O1      EEG.O2      EEG.P8      EEG.T8      EEG.FC6     EEG.F4      EEG.F8      EEG.AF4     EEG.RawCq   EEG.Battery EEG.BatteryPercent MarkerIndex MarkerType MarkerValueInt EEG.MarkerHardware CQ.AF3   CQ.F7    CQ.F3    CQ.FC5   CQ.T7    CQ.P7    CQ.O1    CQ.O2    CQ.P8    CQ.T8    CQ.FC6   CQ.F4    CQ.F8    CQ.AF4   CQ.Overall EQ.SampleRateQuality EQ.OVERALL EQ.AF3   EQ.F7    EQ.F3    EQ.FC5   EQ.T7    EQ.P7    EQ.O1    EQ.O2    EQ.P8    EQ.T8    EQ.FC6   EQ.F4    EQ.F8    EQ.AF4   MOT.CounterMems              MOT.Q2   \n",
       "1689251982.047112 1689251982.047503 69.000000   0.000000         4437.820313 4400.128418 4391.153809 4440.256348 4408.974121 4418.461426 4445.769043 4429.615234 4402.307617 4402.179688 4645.897461 4608.846191 4590.384766 4596.538574 5016.000000 2.000000    46.000000          NaN         NaN        NaN            0.000000           4.000000 4.000000 0.000000 4.000000 4.000000 4.000000 4.000000 4.000000 4.000000 4.000000 4.000000 4.000000 4.000000 4.000000 66.666664  NaN                  NaN        NaN      NaN      NaN      NaN      NaN      NaN      NaN      NaN      NaN      NaN      NaN      NaN      NaN      NaN      NaN                             NaN   \n",
       "1689251982.054920 1689251982.055211 70.000000   0.000000         4438.717773 4405.769043 4394.871582 4437.692383 4412.307617 4422.179688 4445.128418 4429.615234 4401.153809 4391.153809 4648.077148 4607.563965 4594.230957 4597.948730 5198.000000 2.000000    46.000000          NaN         NaN        NaN            0.000000           4.000000 4.000000 0.000000 4.000000 4.000000 4.000000 4.000000 4.000000 4.000000 4.000000 4.000000 4.000000 4.000000 4.000000 66.666664  NaN                  NaN        NaN      NaN      NaN      NaN      NaN      NaN      NaN      NaN      NaN      NaN      NaN      NaN      NaN      NaN      NaN                             NaN   \n",
       "1689251982.062728 1689251982.063119 71.000000   0.000000         4432.948730 4401.666504 4393.717773 4429.230957 4412.948730 4424.487305 4448.333496 4430.000000 4402.692383 4361.922852 4648.717773 4607.307617 4583.717773 4591.794922 4236.000000 2.000000    46.000000          NaN         NaN        NaN            0.000000           4.000000 4.000000 0.000000 4.000000 4.000000 4.000000 4.000000 4.000000 4.000000 4.000000 4.000000 4.000000 4.000000 4.000000 66.666664  1.000000             16.666666  4.000000 4.000000 0.000000 4.000000 1.000000 3.000000 1.000000 4.000000 1.000000 1.000000 4.000000 4.000000 3.000000 4.000000 NaN                             NaN   \n",
       "1689251982.070537 1689251982.070927 72.000000   0.000000         4431.153809 4399.871582 4393.846191 4435.641113 4416.282227 4426.282227 4454.358887 4432.820313 4404.102539 4385.897461 4641.538574 4608.846191 4573.589844 4588.077148 3535.000000 2.000000    46.000000          NaN         NaN        NaN            0.000000           4.000000 4.000000 0.000000 4.000000 4.000000 4.000000 4.000000 4.000000 4.000000 4.000000 4.000000 4.000000 4.000000 4.000000 66.666664  NaN                  NaN        NaN      NaN      NaN      NaN      NaN      NaN      NaN      NaN      NaN      NaN      NaN      NaN      NaN      NaN      18.000000                 -0.439880   \n",
       "1689251982.078344 1689251982.078835 73.000000   0.000000         4435.384766 4404.743652 4386.025879 4446.794922 4420.256348 4421.666504 4450.256348 4433.205078 4404.615234 4402.436035 4638.717773 4611.538574 4578.589844 4594.871582 5273.000000 2.000000    46.000000          NaN         NaN        NaN            0.000000           4.000000 4.000000 0.000000 4.000000 4.000000 4.000000 4.000000 4.000000 4.000000 4.000000 4.000000 4.000000 4.000000 4.000000 66.666664  NaN                  NaN        NaN      NaN      NaN      NaN      NaN      NaN      NaN      NaN      NaN      NaN      NaN      NaN      NaN      NaN      NaN                             NaN   \n",
       "1689251982.086153 1689251982.086643 74.000000   0.000000         4436.538574 4407.051270 4386.282227 4441.538574 4411.666504 4412.051270 4440.256348 4426.153809 4402.820313 4380.000000 4640.256348 4608.717773 4581.666504 4596.025879 6077.000000 2.000000    46.000000          NaN         NaN        NaN            0.000000           4.000000 4.000000 0.000000 4.000000 4.000000 4.000000 4.000000 4.000000 4.000000 4.000000 4.000000 4.000000 4.000000 4.000000 66.666664  NaN                  NaN        NaN      NaN      NaN      NaN      NaN      NaN      NaN      NaN      NaN      NaN      NaN      NaN      NaN      NaN      NaN                             NaN   \n",
       "1689251982.093961 1689251982.094551 75.000000   0.000000         4436.025879 4401.922852 4381.025879 4432.436035 4404.615234 4410.769043 4440.128418 4421.922852 4402.563965 4376.922852 4641.538574 4602.692383 4578.333496 4590.128418 6219.000000 2.000000    46.000000          NaN         NaN        NaN            0.000000           4.000000 4.000000 0.000000 4.000000 4.000000 4.000000 4.000000 4.000000 4.000000 4.000000 4.000000 4.000000 4.000000 4.000000 66.666664  NaN                  NaN        NaN      NaN      NaN      NaN      NaN      NaN      NaN      NaN      NaN      NaN      NaN      NaN      NaN      NaN      NaN                             NaN   \n",
       "1689251982.101769 1689251982.102459 76.000000   0.000000         4435.384766 4394.487305 4390.512695 4432.948730 4408.589844 4416.410156 4447.179688 4428.077148 4406.025879 4374.102539 4641.282227 4604.230957 4578.205078 4591.410156 6501.000000 2.000000    46.000000          NaN         NaN        NaN            0.000000           4.000000 4.000000 0.000000 4.000000 4.000000 4.000000 4.000000 4.000000 4.000000 4.000000 4.000000 4.000000 4.000000 4.000000 66.666664  NaN                  NaN        NaN      NaN      NaN      NaN      NaN      NaN      NaN      NaN      NaN      NaN      NaN      NaN      NaN      NaN      19.000000                 -0.439819   \n",
       "1689251982.109577 1689251982.110266 77.000000   0.000000         4429.743652 4391.538574 4387.692383 4428.205078 4406.794922 4413.717773 4447.051270 4433.077148 4405.769043 4344.230957 4637.307617 4604.358887 4573.461426 4591.666504 6217.000000 2.000000    46.000000          NaN         NaN        NaN            0.000000           4.000000 4.000000 0.000000 4.000000 4.000000 4.000000 4.000000 4.000000 4.000000 4.000000 4.000000 4.000000 4.000000 4.000000 66.666664  NaN                  NaN        NaN      NaN      NaN      NaN      NaN      NaN      NaN      NaN      NaN      NaN      NaN      NaN      NaN      NaN      NaN                             NaN   \n",
       "\n",
       "                                                                                                                                                                                                                                                                                                                                                                                                                                                                                                                                                                                                                                                                     headset serial:E5020228  \\\n",
       "Timestamp         OriginalTimestamp EEG.Counter EEG.Interpolated EEG.AF3     EEG.F7      EEG.F3      EEG.FC5     EEG.T7      EEG.P7      EEG.O1      EEG.O2      EEG.P8      EEG.T8      EEG.FC6     EEG.F4      EEG.F8      EEG.AF4     EEG.RawCq   EEG.Battery EEG.BatteryPercent MarkerIndex MarkerType MarkerValueInt EEG.MarkerHardware CQ.AF3   CQ.F7    CQ.F3    CQ.FC5   CQ.T7    CQ.P7    CQ.O1    CQ.O2    CQ.P8    CQ.T8    CQ.FC6   CQ.F4    CQ.F8    CQ.AF4   CQ.Overall EQ.SampleRateQuality EQ.OVERALL EQ.AF3   EQ.F7    EQ.F3    EQ.FC5   EQ.T7    EQ.P7    EQ.O1    EQ.O2    EQ.P8    EQ.T8    EQ.FC6   EQ.F4    EQ.F8    EQ.AF4   MOT.CounterMems                   MOT.Q3   \n",
       "1689251982.047112 1689251982.047503 69.000000   0.000000         4437.820313 4400.128418 4391.153809 4440.256348 4408.974121 4418.461426 4445.769043 4429.615234 4402.307617 4402.179688 4645.897461 4608.846191 4590.384766 4596.538574 5016.000000 2.000000    46.000000          NaN         NaN        NaN            0.000000           4.000000 4.000000 0.000000 4.000000 4.000000 4.000000 4.000000 4.000000 4.000000 4.000000 4.000000 4.000000 4.000000 4.000000 66.666664  NaN                  NaN        NaN      NaN      NaN      NaN      NaN      NaN      NaN      NaN      NaN      NaN      NaN      NaN      NaN      NaN      NaN                                  NaN   \n",
       "1689251982.054920 1689251982.055211 70.000000   0.000000         4438.717773 4405.769043 4394.871582 4437.692383 4412.307617 4422.179688 4445.128418 4429.615234 4401.153809 4391.153809 4648.077148 4607.563965 4594.230957 4597.948730 5198.000000 2.000000    46.000000          NaN         NaN        NaN            0.000000           4.000000 4.000000 0.000000 4.000000 4.000000 4.000000 4.000000 4.000000 4.000000 4.000000 4.000000 4.000000 4.000000 4.000000 66.666664  NaN                  NaN        NaN      NaN      NaN      NaN      NaN      NaN      NaN      NaN      NaN      NaN      NaN      NaN      NaN      NaN      NaN                                  NaN   \n",
       "1689251982.062728 1689251982.063119 71.000000   0.000000         4432.948730 4401.666504 4393.717773 4429.230957 4412.948730 4424.487305 4448.333496 4430.000000 4402.692383 4361.922852 4648.717773 4607.307617 4583.717773 4591.794922 4236.000000 2.000000    46.000000          NaN         NaN        NaN            0.000000           4.000000 4.000000 0.000000 4.000000 4.000000 4.000000 4.000000 4.000000 4.000000 4.000000 4.000000 4.000000 4.000000 4.000000 66.666664  1.000000             16.666666  4.000000 4.000000 0.000000 4.000000 1.000000 3.000000 1.000000 4.000000 1.000000 1.000000 4.000000 4.000000 3.000000 4.000000 NaN                                  NaN   \n",
       "1689251982.070537 1689251982.070927 72.000000   0.000000         4431.153809 4399.871582 4393.846191 4435.641113 4416.282227 4426.282227 4454.358887 4432.820313 4404.102539 4385.897461 4641.538574 4608.846191 4573.589844 4588.077148 3535.000000 2.000000    46.000000          NaN         NaN        NaN            0.000000           4.000000 4.000000 0.000000 4.000000 4.000000 4.000000 4.000000 4.000000 4.000000 4.000000 4.000000 4.000000 4.000000 4.000000 66.666664  NaN                  NaN        NaN      NaN      NaN      NaN      NaN      NaN      NaN      NaN      NaN      NaN      NaN      NaN      NaN      NaN      18.000000                      -0.196411   \n",
       "1689251982.078344 1689251982.078835 73.000000   0.000000         4435.384766 4404.743652 4386.025879 4446.794922 4420.256348 4421.666504 4450.256348 4433.205078 4404.615234 4402.436035 4638.717773 4611.538574 4578.589844 4594.871582 5273.000000 2.000000    46.000000          NaN         NaN        NaN            0.000000           4.000000 4.000000 0.000000 4.000000 4.000000 4.000000 4.000000 4.000000 4.000000 4.000000 4.000000 4.000000 4.000000 4.000000 66.666664  NaN                  NaN        NaN      NaN      NaN      NaN      NaN      NaN      NaN      NaN      NaN      NaN      NaN      NaN      NaN      NaN      NaN                                  NaN   \n",
       "1689251982.086153 1689251982.086643 74.000000   0.000000         4436.538574 4407.051270 4386.282227 4441.538574 4411.666504 4412.051270 4440.256348 4426.153809 4402.820313 4380.000000 4640.256348 4608.717773 4581.666504 4596.025879 6077.000000 2.000000    46.000000          NaN         NaN        NaN            0.000000           4.000000 4.000000 0.000000 4.000000 4.000000 4.000000 4.000000 4.000000 4.000000 4.000000 4.000000 4.000000 4.000000 4.000000 66.666664  NaN                  NaN        NaN      NaN      NaN      NaN      NaN      NaN      NaN      NaN      NaN      NaN      NaN      NaN      NaN      NaN      NaN                                  NaN   \n",
       "1689251982.093961 1689251982.094551 75.000000   0.000000         4436.025879 4401.922852 4381.025879 4432.436035 4404.615234 4410.769043 4440.128418 4421.922852 4402.563965 4376.922852 4641.538574 4602.692383 4578.333496 4590.128418 6219.000000 2.000000    46.000000          NaN         NaN        NaN            0.000000           4.000000 4.000000 0.000000 4.000000 4.000000 4.000000 4.000000 4.000000 4.000000 4.000000 4.000000 4.000000 4.000000 4.000000 66.666664  NaN                  NaN        NaN      NaN      NaN      NaN      NaN      NaN      NaN      NaN      NaN      NaN      NaN      NaN      NaN      NaN      NaN                                  NaN   \n",
       "1689251982.101769 1689251982.102459 76.000000   0.000000         4435.384766 4394.487305 4390.512695 4432.948730 4408.589844 4416.410156 4447.179688 4428.077148 4406.025879 4374.102539 4641.282227 4604.230957 4578.205078 4591.410156 6501.000000 2.000000    46.000000          NaN         NaN        NaN            0.000000           4.000000 4.000000 0.000000 4.000000 4.000000 4.000000 4.000000 4.000000 4.000000 4.000000 4.000000 4.000000 4.000000 4.000000 66.666664  NaN                  NaN        NaN      NaN      NaN      NaN      NaN      NaN      NaN      NaN      NaN      NaN      NaN      NaN      NaN      NaN      19.000000                      -0.196533   \n",
       "1689251982.109577 1689251982.110266 77.000000   0.000000         4429.743652 4391.538574 4387.692383 4428.205078 4406.794922 4413.717773 4447.051270 4433.077148 4405.769043 4344.230957 4637.307617 4604.358887 4573.461426 4591.666504 6217.000000 2.000000    46.000000          NaN         NaN        NaN            0.000000           4.000000 4.000000 0.000000 4.000000 4.000000 4.000000 4.000000 4.000000 4.000000 4.000000 4.000000 4.000000 4.000000 4.000000 66.666664  NaN                  NaN        NaN      NaN      NaN      NaN      NaN      NaN      NaN      NaN      NaN      NaN      NaN      NaN      NaN      NaN      NaN                                  NaN   \n",
       "\n",
       "                                                                                                                                                                                                                                                                                                                                                                                                                                                                                                                                                                                                                                                                     headset firmware:720  \\\n",
       "Timestamp         OriginalTimestamp EEG.Counter EEG.Interpolated EEG.AF3     EEG.F7      EEG.F3      EEG.FC5     EEG.T7      EEG.P7      EEG.O1      EEG.O2      EEG.P8      EEG.T8      EEG.FC6     EEG.F4      EEG.F8      EEG.AF4     EEG.RawCq   EEG.Battery EEG.BatteryPercent MarkerIndex MarkerType MarkerValueInt EEG.MarkerHardware CQ.AF3   CQ.F7    CQ.F3    CQ.FC5   CQ.T7    CQ.P7    CQ.O1    CQ.O2    CQ.P8    CQ.T8    CQ.FC6   CQ.F4    CQ.F8    CQ.AF4   CQ.Overall EQ.SampleRateQuality EQ.OVERALL EQ.AF3   EQ.F7    EQ.F3    EQ.FC5   EQ.T7    EQ.P7    EQ.O1    EQ.O2    EQ.P8    EQ.T8    EQ.FC6   EQ.F4    EQ.F8    EQ.AF4   MOT.CounterMems              MOT.AccX   \n",
       "1689251982.047112 1689251982.047503 69.000000   0.000000         4437.820313 4400.128418 4391.153809 4440.256348 4408.974121 4418.461426 4445.769043 4429.615234 4402.307617 4402.179688 4645.897461 4608.846191 4590.384766 4596.538574 5016.000000 2.000000    46.000000          NaN         NaN        NaN            0.000000           4.000000 4.000000 0.000000 4.000000 4.000000 4.000000 4.000000 4.000000 4.000000 4.000000 4.000000 4.000000 4.000000 4.000000 66.666664  NaN                  NaN        NaN      NaN      NaN      NaN      NaN      NaN      NaN      NaN      NaN      NaN      NaN      NaN      NaN      NaN      NaN                               NaN   \n",
       "1689251982.054920 1689251982.055211 70.000000   0.000000         4438.717773 4405.769043 4394.871582 4437.692383 4412.307617 4422.179688 4445.128418 4429.615234 4401.153809 4391.153809 4648.077148 4607.563965 4594.230957 4597.948730 5198.000000 2.000000    46.000000          NaN         NaN        NaN            0.000000           4.000000 4.000000 0.000000 4.000000 4.000000 4.000000 4.000000 4.000000 4.000000 4.000000 4.000000 4.000000 4.000000 4.000000 66.666664  NaN                  NaN        NaN      NaN      NaN      NaN      NaN      NaN      NaN      NaN      NaN      NaN      NaN      NaN      NaN      NaN      NaN                               NaN   \n",
       "1689251982.062728 1689251982.063119 71.000000   0.000000         4432.948730 4401.666504 4393.717773 4429.230957 4412.948730 4424.487305 4448.333496 4430.000000 4402.692383 4361.922852 4648.717773 4607.307617 4583.717773 4591.794922 4236.000000 2.000000    46.000000          NaN         NaN        NaN            0.000000           4.000000 4.000000 0.000000 4.000000 4.000000 4.000000 4.000000 4.000000 4.000000 4.000000 4.000000 4.000000 4.000000 4.000000 66.666664  1.000000             16.666666  4.000000 4.000000 0.000000 4.000000 1.000000 3.000000 1.000000 4.000000 1.000000 1.000000 4.000000 4.000000 3.000000 4.000000 NaN                               NaN   \n",
       "1689251982.070537 1689251982.070927 72.000000   0.000000         4431.153809 4399.871582 4393.846191 4435.641113 4416.282227 4426.282227 4454.358887 4432.820313 4404.102539 4385.897461 4641.538574 4608.846191 4573.589844 4588.077148 3535.000000 2.000000    46.000000          NaN         NaN        NaN            0.000000           4.000000 4.000000 0.000000 4.000000 4.000000 4.000000 4.000000 4.000000 4.000000 4.000000 4.000000 4.000000 4.000000 4.000000 66.666664  NaN                  NaN        NaN      NaN      NaN      NaN      NaN      NaN      NaN      NaN      NaN      NaN      NaN      NaN      NaN      NaN      18.000000                    0.803809   \n",
       "1689251982.078344 1689251982.078835 73.000000   0.000000         4435.384766 4404.743652 4386.025879 4446.794922 4420.256348 4421.666504 4450.256348 4433.205078 4404.615234 4402.436035 4638.717773 4611.538574 4578.589844 4594.871582 5273.000000 2.000000    46.000000          NaN         NaN        NaN            0.000000           4.000000 4.000000 0.000000 4.000000 4.000000 4.000000 4.000000 4.000000 4.000000 4.000000 4.000000 4.000000 4.000000 4.000000 66.666664  NaN                  NaN        NaN      NaN      NaN      NaN      NaN      NaN      NaN      NaN      NaN      NaN      NaN      NaN      NaN      NaN      NaN                               NaN   \n",
       "1689251982.086153 1689251982.086643 74.000000   0.000000         4436.538574 4407.051270 4386.282227 4441.538574 4411.666504 4412.051270 4440.256348 4426.153809 4402.820313 4380.000000 4640.256348 4608.717773 4581.666504 4596.025879 6077.000000 2.000000    46.000000          NaN         NaN        NaN            0.000000           4.000000 4.000000 0.000000 4.000000 4.000000 4.000000 4.000000 4.000000 4.000000 4.000000 4.000000 4.000000 4.000000 4.000000 66.666664  NaN                  NaN        NaN      NaN      NaN      NaN      NaN      NaN      NaN      NaN      NaN      NaN      NaN      NaN      NaN      NaN      NaN                               NaN   \n",
       "1689251982.093961 1689251982.094551 75.000000   0.000000         4436.025879 4401.922852 4381.025879 4432.436035 4404.615234 4410.769043 4440.128418 4421.922852 4402.563965 4376.922852 4641.538574 4602.692383 4578.333496 4590.128418 6219.000000 2.000000    46.000000          NaN         NaN        NaN            0.000000           4.000000 4.000000 0.000000 4.000000 4.000000 4.000000 4.000000 4.000000 4.000000 4.000000 4.000000 4.000000 4.000000 4.000000 66.666664  NaN                  NaN        NaN      NaN      NaN      NaN      NaN      NaN      NaN      NaN      NaN      NaN      NaN      NaN      NaN      NaN      NaN                               NaN   \n",
       "1689251982.101769 1689251982.102459 76.000000   0.000000         4435.384766 4394.487305 4390.512695 4432.948730 4408.589844 4416.410156 4447.179688 4428.077148 4406.025879 4374.102539 4641.282227 4604.230957 4578.205078 4591.410156 6501.000000 2.000000    46.000000          NaN         NaN        NaN            0.000000           4.000000 4.000000 0.000000 4.000000 4.000000 4.000000 4.000000 4.000000 4.000000 4.000000 4.000000 4.000000 4.000000 4.000000 66.666664  NaN                  NaN        NaN      NaN      NaN      NaN      NaN      NaN      NaN      NaN      NaN      NaN      NaN      NaN      NaN      NaN      19.000000                    0.800879   \n",
       "1689251982.109577 1689251982.110266 77.000000   0.000000         4429.743652 4391.538574 4387.692383 4428.205078 4406.794922 4413.717773 4447.051270 4433.077148 4405.769043 4344.230957 4637.307617 4604.358887 4573.461426 4591.666504 6217.000000 2.000000    46.000000          NaN         NaN        NaN            0.000000           4.000000 4.000000 0.000000 4.000000 4.000000 4.000000 4.000000 4.000000 4.000000 4.000000 4.000000 4.000000 4.000000 4.000000 66.666664  NaN                  NaN        NaN      NaN      NaN      NaN      NaN      NaN      NaN      NaN      NaN      NaN      NaN      NaN      NaN      NaN      NaN                               NaN   \n",
       "\n",
       "                                                                                                                                                                                                                                                                                                                                                                                                                                                                                                                                                                                                                                                                     channels:67  \\\n",
       "Timestamp         OriginalTimestamp EEG.Counter EEG.Interpolated EEG.AF3     EEG.F7      EEG.F3      EEG.FC5     EEG.T7      EEG.P7      EEG.O1      EEG.O2      EEG.P8      EEG.T8      EEG.FC6     EEG.F4      EEG.F8      EEG.AF4     EEG.RawCq   EEG.Battery EEG.BatteryPercent MarkerIndex MarkerType MarkerValueInt EEG.MarkerHardware CQ.AF3   CQ.F7    CQ.F3    CQ.FC5   CQ.T7    CQ.P7    CQ.O1    CQ.O2    CQ.P8    CQ.T8    CQ.FC6   CQ.F4    CQ.F8    CQ.AF4   CQ.Overall EQ.SampleRateQuality EQ.OVERALL EQ.AF3   EQ.F7    EQ.F3    EQ.FC5   EQ.T7    EQ.P7    EQ.O1    EQ.O2    EQ.P8    EQ.T8    EQ.FC6   EQ.F4    EQ.F8    EQ.AF4   MOT.CounterMems     MOT.AccY   \n",
       "1689251982.047112 1689251982.047503 69.000000   0.000000         4437.820313 4400.128418 4391.153809 4440.256348 4408.974121 4418.461426 4445.769043 4429.615234 4402.307617 4402.179688 4645.897461 4608.846191 4590.384766 4596.538574 5016.000000 2.000000    46.000000          NaN         NaN        NaN            0.000000           4.000000 4.000000 0.000000 4.000000 4.000000 4.000000 4.000000 4.000000 4.000000 4.000000 4.000000 4.000000 4.000000 4.000000 66.666664  NaN                  NaN        NaN      NaN      NaN      NaN      NaN      NaN      NaN      NaN      NaN      NaN      NaN      NaN      NaN      NaN      NaN                      NaN   \n",
       "1689251982.054920 1689251982.055211 70.000000   0.000000         4438.717773 4405.769043 4394.871582 4437.692383 4412.307617 4422.179688 4445.128418 4429.615234 4401.153809 4391.153809 4648.077148 4607.563965 4594.230957 4597.948730 5198.000000 2.000000    46.000000          NaN         NaN        NaN            0.000000           4.000000 4.000000 0.000000 4.000000 4.000000 4.000000 4.000000 4.000000 4.000000 4.000000 4.000000 4.000000 4.000000 4.000000 66.666664  NaN                  NaN        NaN      NaN      NaN      NaN      NaN      NaN      NaN      NaN      NaN      NaN      NaN      NaN      NaN      NaN      NaN                      NaN   \n",
       "1689251982.062728 1689251982.063119 71.000000   0.000000         4432.948730 4401.666504 4393.717773 4429.230957 4412.948730 4424.487305 4448.333496 4430.000000 4402.692383 4361.922852 4648.717773 4607.307617 4583.717773 4591.794922 4236.000000 2.000000    46.000000          NaN         NaN        NaN            0.000000           4.000000 4.000000 0.000000 4.000000 4.000000 4.000000 4.000000 4.000000 4.000000 4.000000 4.000000 4.000000 4.000000 4.000000 66.666664  1.000000             16.666666  4.000000 4.000000 0.000000 4.000000 1.000000 3.000000 1.000000 4.000000 1.000000 1.000000 4.000000 4.000000 3.000000 4.000000 NaN                      NaN   \n",
       "1689251982.070537 1689251982.070927 72.000000   0.000000         4431.153809 4399.871582 4393.846191 4435.641113 4416.282227 4426.282227 4454.358887 4432.820313 4404.102539 4385.897461 4641.538574 4608.846191 4573.589844 4588.077148 3535.000000 2.000000    46.000000          NaN         NaN        NaN            0.000000           4.000000 4.000000 0.000000 4.000000 4.000000 4.000000 4.000000 4.000000 4.000000 4.000000 4.000000 4.000000 4.000000 4.000000 66.666664  NaN                  NaN        NaN      NaN      NaN      NaN      NaN      NaN      NaN      NaN      NaN      NaN      NaN      NaN      NaN      NaN      18.000000          -0.573312   \n",
       "1689251982.078344 1689251982.078835 73.000000   0.000000         4435.384766 4404.743652 4386.025879 4446.794922 4420.256348 4421.666504 4450.256348 4433.205078 4404.615234 4402.436035 4638.717773 4611.538574 4578.589844 4594.871582 5273.000000 2.000000    46.000000          NaN         NaN        NaN            0.000000           4.000000 4.000000 0.000000 4.000000 4.000000 4.000000 4.000000 4.000000 4.000000 4.000000 4.000000 4.000000 4.000000 4.000000 66.666664  NaN                  NaN        NaN      NaN      NaN      NaN      NaN      NaN      NaN      NaN      NaN      NaN      NaN      NaN      NaN      NaN      NaN                      NaN   \n",
       "1689251982.086153 1689251982.086643 74.000000   0.000000         4436.538574 4407.051270 4386.282227 4441.538574 4411.666504 4412.051270 4440.256348 4426.153809 4402.820313 4380.000000 4640.256348 4608.717773 4581.666504 4596.025879 6077.000000 2.000000    46.000000          NaN         NaN        NaN            0.000000           4.000000 4.000000 0.000000 4.000000 4.000000 4.000000 4.000000 4.000000 4.000000 4.000000 4.000000 4.000000 4.000000 4.000000 66.666664  NaN                  NaN        NaN      NaN      NaN      NaN      NaN      NaN      NaN      NaN      NaN      NaN      NaN      NaN      NaN      NaN      NaN                      NaN   \n",
       "1689251982.093961 1689251982.094551 75.000000   0.000000         4436.025879 4401.922852 4381.025879 4432.436035 4404.615234 4410.769043 4440.128418 4421.922852 4402.563965 4376.922852 4641.538574 4602.692383 4578.333496 4590.128418 6219.000000 2.000000    46.000000          NaN         NaN        NaN            0.000000           4.000000 4.000000 0.000000 4.000000 4.000000 4.000000 4.000000 4.000000 4.000000 4.000000 4.000000 4.000000 4.000000 4.000000 66.666664  NaN                  NaN        NaN      NaN      NaN      NaN      NaN      NaN      NaN      NaN      NaN      NaN      NaN      NaN      NaN      NaN      NaN                      NaN   \n",
       "1689251982.101769 1689251982.102459 76.000000   0.000000         4435.384766 4394.487305 4390.512695 4432.948730 4408.589844 4416.410156 4447.179688 4428.077148 4406.025879 4374.102539 4641.282227 4604.230957 4578.205078 4591.410156 6501.000000 2.000000    46.000000          NaN         NaN        NaN            0.000000           4.000000 4.000000 0.000000 4.000000 4.000000 4.000000 4.000000 4.000000 4.000000 4.000000 4.000000 4.000000 4.000000 4.000000 66.666664  NaN                  NaN        NaN      NaN      NaN      NaN      NaN      NaN      NaN      NaN      NaN      NaN      NaN      NaN      NaN      NaN      19.000000          -0.573801   \n",
       "1689251982.109577 1689251982.110266 77.000000   0.000000         4429.743652 4391.538574 4387.692383 4428.205078 4406.794922 4413.717773 4447.051270 4433.077148 4405.769043 4344.230957 4637.307617 4604.358887 4573.461426 4591.666504 6217.000000 2.000000    46.000000          NaN         NaN        NaN            0.000000           4.000000 4.000000 0.000000 4.000000 4.000000 4.000000 4.000000 4.000000 4.000000 4.000000 4.000000 4.000000 4.000000 4.000000 66.666664  NaN                  NaN        NaN      NaN      NaN      NaN      NaN      NaN      NaN      NaN      NaN      NaN      NaN      NaN      NaN      NaN      NaN                      NaN   \n",
       "\n",
       "                                                                                                                                                                                                                                                                                                                                                                                                                                                                                                                                                                                                                                                                     sampling rate:eeg_128;mot_32  \\\n",
       "Timestamp         OriginalTimestamp EEG.Counter EEG.Interpolated EEG.AF3     EEG.F7      EEG.F3      EEG.FC5     EEG.T7      EEG.P7      EEG.O1      EEG.O2      EEG.P8      EEG.T8      EEG.FC6     EEG.F4      EEG.F8      EEG.AF4     EEG.RawCq   EEG.Battery EEG.BatteryPercent MarkerIndex MarkerType MarkerValueInt EEG.MarkerHardware CQ.AF3   CQ.F7    CQ.F3    CQ.FC5   CQ.T7    CQ.P7    CQ.O1    CQ.O2    CQ.P8    CQ.T8    CQ.FC6   CQ.F4    CQ.F8    CQ.AF4   CQ.Overall EQ.SampleRateQuality EQ.OVERALL EQ.AF3   EQ.F7    EQ.F3    EQ.FC5   EQ.T7    EQ.P7    EQ.O1    EQ.O2    EQ.P8    EQ.T8    EQ.FC6   EQ.F4    EQ.F8    EQ.AF4   MOT.CounterMems                      MOT.AccZ   \n",
       "1689251982.047112 1689251982.047503 69.000000   0.000000         4437.820313 4400.128418 4391.153809 4440.256348 4408.974121 4418.461426 4445.769043 4429.615234 4402.307617 4402.179688 4645.897461 4608.846191 4590.384766 4596.538574 5016.000000 2.000000    46.000000          NaN         NaN        NaN            0.000000           4.000000 4.000000 0.000000 4.000000 4.000000 4.000000 4.000000 4.000000 4.000000 4.000000 4.000000 4.000000 4.000000 4.000000 66.666664  NaN                  NaN        NaN      NaN      NaN      NaN      NaN      NaN      NaN      NaN      NaN      NaN      NaN      NaN      NaN      NaN      NaN                                       NaN   \n",
       "1689251982.054920 1689251982.055211 70.000000   0.000000         4438.717773 4405.769043 4394.871582 4437.692383 4412.307617 4422.179688 4445.128418 4429.615234 4401.153809 4391.153809 4648.077148 4607.563965 4594.230957 4597.948730 5198.000000 2.000000    46.000000          NaN         NaN        NaN            0.000000           4.000000 4.000000 0.000000 4.000000 4.000000 4.000000 4.000000 4.000000 4.000000 4.000000 4.000000 4.000000 4.000000 4.000000 66.666664  NaN                  NaN        NaN      NaN      NaN      NaN      NaN      NaN      NaN      NaN      NaN      NaN      NaN      NaN      NaN      NaN      NaN                                       NaN   \n",
       "1689251982.062728 1689251982.063119 71.000000   0.000000         4432.948730 4401.666504 4393.717773 4429.230957 4412.948730 4424.487305 4448.333496 4430.000000 4402.692383 4361.922852 4648.717773 4607.307617 4583.717773 4591.794922 4236.000000 2.000000    46.000000          NaN         NaN        NaN            0.000000           4.000000 4.000000 0.000000 4.000000 4.000000 4.000000 4.000000 4.000000 4.000000 4.000000 4.000000 4.000000 4.000000 4.000000 66.666664  1.000000             16.666666  4.000000 4.000000 0.000000 4.000000 1.000000 3.000000 1.000000 4.000000 1.000000 1.000000 4.000000 4.000000 3.000000 4.000000 NaN                                       NaN   \n",
       "1689251982.070537 1689251982.070927 72.000000   0.000000         4431.153809 4399.871582 4393.846191 4435.641113 4416.282227 4426.282227 4454.358887 4432.820313 4404.102539 4385.897461 4641.538574 4608.846191 4573.589844 4588.077148 3535.000000 2.000000    46.000000          NaN         NaN        NaN            0.000000           4.000000 4.000000 0.000000 4.000000 4.000000 4.000000 4.000000 4.000000 4.000000 4.000000 4.000000 4.000000 4.000000 4.000000 66.666664  NaN                  NaN        NaN      NaN      NaN      NaN      NaN      NaN      NaN      NaN      NaN      NaN      NaN      NaN      NaN      NaN      18.000000                            0.028324   \n",
       "1689251982.078344 1689251982.078835 73.000000   0.000000         4435.384766 4404.743652 4386.025879 4446.794922 4420.256348 4421.666504 4450.256348 4433.205078 4404.615234 4402.436035 4638.717773 4611.538574 4578.589844 4594.871582 5273.000000 2.000000    46.000000          NaN         NaN        NaN            0.000000           4.000000 4.000000 0.000000 4.000000 4.000000 4.000000 4.000000 4.000000 4.000000 4.000000 4.000000 4.000000 4.000000 4.000000 66.666664  NaN                  NaN        NaN      NaN      NaN      NaN      NaN      NaN      NaN      NaN      NaN      NaN      NaN      NaN      NaN      NaN      NaN                                       NaN   \n",
       "1689251982.086153 1689251982.086643 74.000000   0.000000         4436.538574 4407.051270 4386.282227 4441.538574 4411.666504 4412.051270 4440.256348 4426.153809 4402.820313 4380.000000 4640.256348 4608.717773 4581.666504 4596.025879 6077.000000 2.000000    46.000000          NaN         NaN        NaN            0.000000           4.000000 4.000000 0.000000 4.000000 4.000000 4.000000 4.000000 4.000000 4.000000 4.000000 4.000000 4.000000 4.000000 4.000000 66.666664  NaN                  NaN        NaN      NaN      NaN      NaN      NaN      NaN      NaN      NaN      NaN      NaN      NaN      NaN      NaN      NaN      NaN                                       NaN   \n",
       "1689251982.093961 1689251982.094551 75.000000   0.000000         4436.025879 4401.922852 4381.025879 4432.436035 4404.615234 4410.769043 4440.128418 4421.922852 4402.563965 4376.922852 4641.538574 4602.692383 4578.333496 4590.128418 6219.000000 2.000000    46.000000          NaN         NaN        NaN            0.000000           4.000000 4.000000 0.000000 4.000000 4.000000 4.000000 4.000000 4.000000 4.000000 4.000000 4.000000 4.000000 4.000000 4.000000 66.666664  NaN                  NaN        NaN      NaN      NaN      NaN      NaN      NaN      NaN      NaN      NaN      NaN      NaN      NaN      NaN      NaN      NaN                                       NaN   \n",
       "1689251982.101769 1689251982.102459 76.000000   0.000000         4435.384766 4394.487305 4390.512695 4432.948730 4408.589844 4416.410156 4447.179688 4428.077148 4406.025879 4374.102539 4641.282227 4604.230957 4578.205078 4591.410156 6501.000000 2.000000    46.000000          NaN         NaN        NaN            0.000000           4.000000 4.000000 0.000000 4.000000 4.000000 4.000000 4.000000 4.000000 4.000000 4.000000 4.000000 4.000000 4.000000 4.000000 66.666664  NaN                  NaN        NaN      NaN      NaN      NaN      NaN      NaN      NaN      NaN      NaN      NaN      NaN      NaN      NaN      NaN      19.000000                            0.039067   \n",
       "1689251982.109577 1689251982.110266 77.000000   0.000000         4429.743652 4391.538574 4387.692383 4428.205078 4406.794922 4413.717773 4447.051270 4433.077148 4405.769043 4344.230957 4637.307617 4604.358887 4573.461426 4591.666504 6217.000000 2.000000    46.000000          NaN         NaN        NaN            0.000000           4.000000 4.000000 0.000000 4.000000 4.000000 4.000000 4.000000 4.000000 4.000000 4.000000 4.000000 4.000000 4.000000 4.000000 66.666664  NaN                  NaN        NaN      NaN      NaN      NaN      NaN      NaN      NaN      NaN      NaN      NaN      NaN      NaN      NaN      NaN      NaN                                       NaN   \n",
       "\n",
       "                                                                                                                                                                                                                                                                                                                                                                                                                                                                                                                                                                                                                                                                     samples:7600        \\\n",
       "Timestamp         OriginalTimestamp EEG.Counter EEG.Interpolated EEG.AF3     EEG.F7      EEG.F3      EEG.FC5     EEG.T7      EEG.P7      EEG.O1      EEG.O2      EEG.P8      EEG.T8      EEG.FC6     EEG.F4      EEG.F8      EEG.AF4     EEG.RawCq   EEG.Battery EEG.BatteryPercent MarkerIndex MarkerType MarkerValueInt EEG.MarkerHardware CQ.AF3   CQ.F7    CQ.F3    CQ.FC5   CQ.T7    CQ.P7    CQ.O1    CQ.O2    CQ.P8    CQ.T8    CQ.FC6   CQ.F4    CQ.F8    CQ.AF4   CQ.Overall EQ.SampleRateQuality EQ.OVERALL EQ.AF3   EQ.F7    EQ.F3    EQ.FC5   EQ.T7    EQ.P7    EQ.O1    EQ.O2    EQ.P8    EQ.T8    EQ.FC6   EQ.F4    EQ.F8    EQ.AF4   MOT.CounterMems            MOT.MagX   \n",
       "1689251982.047112 1689251982.047503 69.000000   0.000000         4437.820313 4400.128418 4391.153809 4440.256348 4408.974121 4418.461426 4445.769043 4429.615234 4402.307617 4402.179688 4645.897461 4608.846191 4590.384766 4596.538574 5016.000000 2.000000    46.000000          NaN         NaN        NaN            0.000000           4.000000 4.000000 0.000000 4.000000 4.000000 4.000000 4.000000 4.000000 4.000000 4.000000 4.000000 4.000000 4.000000 4.000000 66.666664  NaN                  NaN        NaN      NaN      NaN      NaN      NaN      NaN      NaN      NaN      NaN      NaN      NaN      NaN      NaN      NaN      NaN                             NaN   \n",
       "1689251982.054920 1689251982.055211 70.000000   0.000000         4438.717773 4405.769043 4394.871582 4437.692383 4412.307617 4422.179688 4445.128418 4429.615234 4401.153809 4391.153809 4648.077148 4607.563965 4594.230957 4597.948730 5198.000000 2.000000    46.000000          NaN         NaN        NaN            0.000000           4.000000 4.000000 0.000000 4.000000 4.000000 4.000000 4.000000 4.000000 4.000000 4.000000 4.000000 4.000000 4.000000 4.000000 66.666664  NaN                  NaN        NaN      NaN      NaN      NaN      NaN      NaN      NaN      NaN      NaN      NaN      NaN      NaN      NaN      NaN      NaN                             NaN   \n",
       "1689251982.062728 1689251982.063119 71.000000   0.000000         4432.948730 4401.666504 4393.717773 4429.230957 4412.948730 4424.487305 4448.333496 4430.000000 4402.692383 4361.922852 4648.717773 4607.307617 4583.717773 4591.794922 4236.000000 2.000000    46.000000          NaN         NaN        NaN            0.000000           4.000000 4.000000 0.000000 4.000000 4.000000 4.000000 4.000000 4.000000 4.000000 4.000000 4.000000 4.000000 4.000000 4.000000 66.666664  1.000000             16.666666  4.000000 4.000000 0.000000 4.000000 1.000000 3.000000 1.000000 4.000000 1.000000 1.000000 4.000000 4.000000 3.000000 4.000000 NaN                             NaN   \n",
       "1689251982.070537 1689251982.070927 72.000000   0.000000         4431.153809 4399.871582 4393.846191 4435.641113 4416.282227 4426.282227 4454.358887 4432.820313 4404.102539 4385.897461 4641.538574 4608.846191 4573.589844 4588.077148 3535.000000 2.000000    46.000000          NaN         NaN        NaN            0.000000           4.000000 4.000000 0.000000 4.000000 4.000000 4.000000 4.000000 4.000000 4.000000 4.000000 4.000000 4.000000 4.000000 4.000000 66.666664  NaN                  NaN        NaN      NaN      NaN      NaN      NaN      NaN      NaN      NaN      NaN      NaN      NaN      NaN      NaN      NaN      18.000000                -26.656399   \n",
       "1689251982.078344 1689251982.078835 73.000000   0.000000         4435.384766 4404.743652 4386.025879 4446.794922 4420.256348 4421.666504 4450.256348 4433.205078 4404.615234 4402.436035 4638.717773 4611.538574 4578.589844 4594.871582 5273.000000 2.000000    46.000000          NaN         NaN        NaN            0.000000           4.000000 4.000000 0.000000 4.000000 4.000000 4.000000 4.000000 4.000000 4.000000 4.000000 4.000000 4.000000 4.000000 4.000000 66.666664  NaN                  NaN        NaN      NaN      NaN      NaN      NaN      NaN      NaN      NaN      NaN      NaN      NaN      NaN      NaN      NaN      NaN                             NaN   \n",
       "1689251982.086153 1689251982.086643 74.000000   0.000000         4436.538574 4407.051270 4386.282227 4441.538574 4411.666504 4412.051270 4440.256348 4426.153809 4402.820313 4380.000000 4640.256348 4608.717773 4581.666504 4596.025879 6077.000000 2.000000    46.000000          NaN         NaN        NaN            0.000000           4.000000 4.000000 0.000000 4.000000 4.000000 4.000000 4.000000 4.000000 4.000000 4.000000 4.000000 4.000000 4.000000 4.000000 66.666664  NaN                  NaN        NaN      NaN      NaN      NaN      NaN      NaN      NaN      NaN      NaN      NaN      NaN      NaN      NaN      NaN      NaN                             NaN   \n",
       "1689251982.093961 1689251982.094551 75.000000   0.000000         4436.025879 4401.922852 4381.025879 4432.436035 4404.615234 4410.769043 4440.128418 4421.922852 4402.563965 4376.922852 4641.538574 4602.692383 4578.333496 4590.128418 6219.000000 2.000000    46.000000          NaN         NaN        NaN            0.000000           4.000000 4.000000 0.000000 4.000000 4.000000 4.000000 4.000000 4.000000 4.000000 4.000000 4.000000 4.000000 4.000000 4.000000 66.666664  NaN                  NaN        NaN      NaN      NaN      NaN      NaN      NaN      NaN      NaN      NaN      NaN      NaN      NaN      NaN      NaN      NaN                             NaN   \n",
       "1689251982.101769 1689251982.102459 76.000000   0.000000         4435.384766 4394.487305 4390.512695 4432.948730 4408.589844 4416.410156 4447.179688 4428.077148 4406.025879 4374.102539 4641.282227 4604.230957 4578.205078 4591.410156 6501.000000 2.000000    46.000000          NaN         NaN        NaN            0.000000           4.000000 4.000000 0.000000 4.000000 4.000000 4.000000 4.000000 4.000000 4.000000 4.000000 4.000000 4.000000 4.000000 4.000000 66.666664  NaN                  NaN        NaN      NaN      NaN      NaN      NaN      NaN      NaN      NaN      NaN      NaN      NaN      NaN      NaN      NaN      19.000000                -26.707424   \n",
       "1689251982.109577 1689251982.110266 77.000000   0.000000         4429.743652 4391.538574 4387.692383 4428.205078 4406.794922 4413.717773 4447.051270 4433.077148 4405.769043 4344.230957 4637.307617 4604.358887 4573.461426 4591.666504 6217.000000 2.000000    46.000000          NaN         NaN        NaN            0.000000           4.000000 4.000000 0.000000 4.000000 4.000000 4.000000 4.000000 4.000000 4.000000 4.000000 4.000000 4.000000 4.000000 4.000000 66.666664  NaN                  NaN        NaN      NaN      NaN      NaN      NaN      NaN      NaN      NaN      NaN      NaN      NaN      NaN      NaN      NaN      NaN                             NaN   \n",
       "\n",
       "                                                                                                                                                                                                                                                                                                                                                                                                                                                                                                                                                                                                                                                                     version:2.2  \\\n",
       "Timestamp         OriginalTimestamp EEG.Counter EEG.Interpolated EEG.AF3     EEG.F7      EEG.F3      EEG.FC5     EEG.T7      EEG.P7      EEG.O1      EEG.O2      EEG.P8      EEG.T8      EEG.FC6     EEG.F4      EEG.F8      EEG.AF4     EEG.RawCq   EEG.Battery EEG.BatteryPercent MarkerIndex MarkerType MarkerValueInt EEG.MarkerHardware CQ.AF3   CQ.F7    CQ.F3    CQ.FC5   CQ.T7    CQ.P7    CQ.O1    CQ.O2    CQ.P8    CQ.T8    CQ.FC6   CQ.F4    CQ.F8    CQ.AF4   CQ.Overall EQ.SampleRateQuality EQ.OVERALL EQ.AF3   EQ.F7    EQ.F3    EQ.FC5   EQ.T7    EQ.P7    EQ.O1    EQ.O2    EQ.P8    EQ.T8    EQ.FC6   EQ.F4    EQ.F8    EQ.AF4   MOT.CounterMems     MOT.MagY   \n",
       "1689251982.047112 1689251982.047503 69.000000   0.000000         4437.820313 4400.128418 4391.153809 4440.256348 4408.974121 4418.461426 4445.769043 4429.615234 4402.307617 4402.179688 4645.897461 4608.846191 4590.384766 4596.538574 5016.000000 2.000000    46.000000          NaN         NaN        NaN            0.000000           4.000000 4.000000 0.000000 4.000000 4.000000 4.000000 4.000000 4.000000 4.000000 4.000000 4.000000 4.000000 4.000000 4.000000 66.666664  NaN                  NaN        NaN      NaN      NaN      NaN      NaN      NaN      NaN      NaN      NaN      NaN      NaN      NaN      NaN      NaN      NaN                      NaN   \n",
       "1689251982.054920 1689251982.055211 70.000000   0.000000         4438.717773 4405.769043 4394.871582 4437.692383 4412.307617 4422.179688 4445.128418 4429.615234 4401.153809 4391.153809 4648.077148 4607.563965 4594.230957 4597.948730 5198.000000 2.000000    46.000000          NaN         NaN        NaN            0.000000           4.000000 4.000000 0.000000 4.000000 4.000000 4.000000 4.000000 4.000000 4.000000 4.000000 4.000000 4.000000 4.000000 4.000000 66.666664  NaN                  NaN        NaN      NaN      NaN      NaN      NaN      NaN      NaN      NaN      NaN      NaN      NaN      NaN      NaN      NaN      NaN                      NaN   \n",
       "1689251982.062728 1689251982.063119 71.000000   0.000000         4432.948730 4401.666504 4393.717773 4429.230957 4412.948730 4424.487305 4448.333496 4430.000000 4402.692383 4361.922852 4648.717773 4607.307617 4583.717773 4591.794922 4236.000000 2.000000    46.000000          NaN         NaN        NaN            0.000000           4.000000 4.000000 0.000000 4.000000 4.000000 4.000000 4.000000 4.000000 4.000000 4.000000 4.000000 4.000000 4.000000 4.000000 66.666664  1.000000             16.666666  4.000000 4.000000 0.000000 4.000000 1.000000 3.000000 1.000000 4.000000 1.000000 1.000000 4.000000 4.000000 3.000000 4.000000 NaN                      NaN   \n",
       "1689251982.070537 1689251982.070927 72.000000   0.000000         4431.153809 4399.871582 4393.846191 4435.641113 4416.282227 4426.282227 4454.358887 4432.820313 4404.102539 4385.897461 4641.538574 4608.846191 4573.589844 4588.077148 3535.000000 2.000000    46.000000          NaN         NaN        NaN            0.000000           4.000000 4.000000 0.000000 4.000000 4.000000 4.000000 4.000000 4.000000 4.000000 4.000000 4.000000 4.000000 4.000000 4.000000 66.666664  NaN                  NaN        NaN      NaN      NaN      NaN      NaN      NaN      NaN      NaN      NaN      NaN      NaN      NaN      NaN      NaN      18.000000         -63.463982   \n",
       "1689251982.078344 1689251982.078835 73.000000   0.000000         4435.384766 4404.743652 4386.025879 4446.794922 4420.256348 4421.666504 4450.256348 4433.205078 4404.615234 4402.436035 4638.717773 4611.538574 4578.589844 4594.871582 5273.000000 2.000000    46.000000          NaN         NaN        NaN            0.000000           4.000000 4.000000 0.000000 4.000000 4.000000 4.000000 4.000000 4.000000 4.000000 4.000000 4.000000 4.000000 4.000000 4.000000 66.666664  NaN                  NaN        NaN      NaN      NaN      NaN      NaN      NaN      NaN      NaN      NaN      NaN      NaN      NaN      NaN      NaN      NaN                      NaN   \n",
       "1689251982.086153 1689251982.086643 74.000000   0.000000         4436.538574 4407.051270 4386.282227 4441.538574 4411.666504 4412.051270 4440.256348 4426.153809 4402.820313 4380.000000 4640.256348 4608.717773 4581.666504 4596.025879 6077.000000 2.000000    46.000000          NaN         NaN        NaN            0.000000           4.000000 4.000000 0.000000 4.000000 4.000000 4.000000 4.000000 4.000000 4.000000 4.000000 4.000000 4.000000 4.000000 4.000000 66.666664  NaN                  NaN        NaN      NaN      NaN      NaN      NaN      NaN      NaN      NaN      NaN      NaN      NaN      NaN      NaN      NaN      NaN                      NaN   \n",
       "1689251982.093961 1689251982.094551 75.000000   0.000000         4436.025879 4401.922852 4381.025879 4432.436035 4404.615234 4410.769043 4440.128418 4421.922852 4402.563965 4376.922852 4641.538574 4602.692383 4578.333496 4590.128418 6219.000000 2.000000    46.000000          NaN         NaN        NaN            0.000000           4.000000 4.000000 0.000000 4.000000 4.000000 4.000000 4.000000 4.000000 4.000000 4.000000 4.000000 4.000000 4.000000 4.000000 66.666664  NaN                  NaN        NaN      NaN      NaN      NaN      NaN      NaN      NaN      NaN      NaN      NaN      NaN      NaN      NaN      NaN      NaN                      NaN   \n",
       "1689251982.101769 1689251982.102459 76.000000   0.000000         4435.384766 4394.487305 4390.512695 4432.948730 4408.589844 4416.410156 4447.179688 4428.077148 4406.025879 4374.102539 4641.282227 4604.230957 4578.205078 4591.410156 6501.000000 2.000000    46.000000          NaN         NaN        NaN            0.000000           4.000000 4.000000 0.000000 4.000000 4.000000 4.000000 4.000000 4.000000 4.000000 4.000000 4.000000 4.000000 4.000000 4.000000 66.666664  NaN                  NaN        NaN      NaN      NaN      NaN      NaN      NaN      NaN      NaN      NaN      NaN      NaN      NaN      NaN      NaN      19.000000         -63.400913   \n",
       "1689251982.109577 1689251982.110266 77.000000   0.000000         4429.743652 4391.538574 4387.692383 4428.205078 4406.794922 4413.717773 4447.051270 4433.077148 4405.769043 4344.230957 4637.307617 4604.358887 4573.461426 4591.666504 6217.000000 2.000000    46.000000          NaN         NaN        NaN            0.000000           4.000000 4.000000 0.000000 4.000000 4.000000 4.000000 4.000000 4.000000 4.000000 4.000000 4.000000 4.000000 4.000000 4.000000 66.666664  NaN                  NaN        NaN      NaN      NaN      NaN      NaN      NaN      NaN      NaN      NaN      NaN      NaN      NaN      NaN      NaN      NaN                      NaN   \n",
       "\n",
       "                                                                                                                                                                                                                                                                                                                                                                                                                                                                                                                                                                                                                                                                               \n",
       "Timestamp         OriginalTimestamp EEG.Counter EEG.Interpolated EEG.AF3     EEG.F7      EEG.F3      EEG.FC5     EEG.T7      EEG.P7      EEG.O1      EEG.O2      EEG.P8      EEG.T8      EEG.FC6     EEG.F4      EEG.F8      EEG.AF4     EEG.RawCq   EEG.Battery EEG.BatteryPercent MarkerIndex MarkerType MarkerValueInt EEG.MarkerHardware CQ.AF3   CQ.F7    CQ.F3    CQ.FC5   CQ.T7    CQ.P7    CQ.O1    CQ.O2    CQ.P8    CQ.T8    CQ.FC6   CQ.F4    CQ.F8    CQ.AF4   CQ.Overall EQ.SampleRateQuality EQ.OVERALL EQ.AF3   EQ.F7    EQ.F3    EQ.FC5   EQ.T7    EQ.P7    EQ.O1    EQ.O2    EQ.P8    EQ.T8    EQ.FC6   EQ.F4    EQ.F8    EQ.AF4   MOT.CounterMems  MOT.MagZ  \n",
       "1689251982.047112 1689251982.047503 69.000000   0.000000         4437.820313 4400.128418 4391.153809 4440.256348 4408.974121 4418.461426 4445.769043 4429.615234 4402.307617 4402.179688 4645.897461 4608.846191 4590.384766 4596.538574 5016.000000 2.000000    46.000000          NaN         NaN        NaN            0.000000           4.000000 4.000000 0.000000 4.000000 4.000000 4.000000 4.000000 4.000000 4.000000 4.000000 4.000000 4.000000 4.000000 4.000000 66.666664  NaN                  NaN        NaN      NaN      NaN      NaN      NaN      NaN      NaN      NaN      NaN      NaN      NaN      NaN      NaN      NaN      NaN                   NaN  \n",
       "1689251982.054920 1689251982.055211 70.000000   0.000000         4438.717773 4405.769043 4394.871582 4437.692383 4412.307617 4422.179688 4445.128418 4429.615234 4401.153809 4391.153809 4648.077148 4607.563965 4594.230957 4597.948730 5198.000000 2.000000    46.000000          NaN         NaN        NaN            0.000000           4.000000 4.000000 0.000000 4.000000 4.000000 4.000000 4.000000 4.000000 4.000000 4.000000 4.000000 4.000000 4.000000 4.000000 66.666664  NaN                  NaN        NaN      NaN      NaN      NaN      NaN      NaN      NaN      NaN      NaN      NaN      NaN      NaN      NaN      NaN      NaN                   NaN  \n",
       "1689251982.062728 1689251982.063119 71.000000   0.000000         4432.948730 4401.666504 4393.717773 4429.230957 4412.948730 4424.487305 4448.333496 4430.000000 4402.692383 4361.922852 4648.717773 4607.307617 4583.717773 4591.794922 4236.000000 2.000000    46.000000          NaN         NaN        NaN            0.000000           4.000000 4.000000 0.000000 4.000000 4.000000 4.000000 4.000000 4.000000 4.000000 4.000000 4.000000 4.000000 4.000000 4.000000 66.666664  1.000000             16.666666  4.000000 4.000000 0.000000 4.000000 1.000000 3.000000 1.000000 4.000000 1.000000 1.000000 4.000000 4.000000 3.000000 4.000000 NaN                   NaN  \n",
       "1689251982.070537 1689251982.070927 72.000000   0.000000         4431.153809 4399.871582 4393.846191 4435.641113 4416.282227 4426.282227 4454.358887 4432.820313 4404.102539 4385.897461 4641.538574 4608.846191 4573.589844 4588.077148 3535.000000 2.000000    46.000000          NaN         NaN        NaN            0.000000           4.000000 4.000000 0.000000 4.000000 4.000000 4.000000 4.000000 4.000000 4.000000 4.000000 4.000000 4.000000 4.000000 4.000000 66.666664  NaN                  NaN        NaN      NaN      NaN      NaN      NaN      NaN      NaN      NaN      NaN      NaN      NaN      NaN      NaN      NaN      18.000000        6.673175  \n",
       "1689251982.078344 1689251982.078835 73.000000   0.000000         4435.384766 4404.743652 4386.025879 4446.794922 4420.256348 4421.666504 4450.256348 4433.205078 4404.615234 4402.436035 4638.717773 4611.538574 4578.589844 4594.871582 5273.000000 2.000000    46.000000          NaN         NaN        NaN            0.000000           4.000000 4.000000 0.000000 4.000000 4.000000 4.000000 4.000000 4.000000 4.000000 4.000000 4.000000 4.000000 4.000000 4.000000 66.666664  NaN                  NaN        NaN      NaN      NaN      NaN      NaN      NaN      NaN      NaN      NaN      NaN      NaN      NaN      NaN      NaN      NaN                   NaN  \n",
       "1689251982.086153 1689251982.086643 74.000000   0.000000         4436.538574 4407.051270 4386.282227 4441.538574 4411.666504 4412.051270 4440.256348 4426.153809 4402.820313 4380.000000 4640.256348 4608.717773 4581.666504 4596.025879 6077.000000 2.000000    46.000000          NaN         NaN        NaN            0.000000           4.000000 4.000000 0.000000 4.000000 4.000000 4.000000 4.000000 4.000000 4.000000 4.000000 4.000000 4.000000 4.000000 4.000000 66.666664  NaN                  NaN        NaN      NaN      NaN      NaN      NaN      NaN      NaN      NaN      NaN      NaN      NaN      NaN      NaN      NaN      NaN                   NaN  \n",
       "1689251982.093961 1689251982.094551 75.000000   0.000000         4436.025879 4401.922852 4381.025879 4432.436035 4404.615234 4410.769043 4440.128418 4421.922852 4402.563965 4376.922852 4641.538574 4602.692383 4578.333496 4590.128418 6219.000000 2.000000    46.000000          NaN         NaN        NaN            0.000000           4.000000 4.000000 0.000000 4.000000 4.000000 4.000000 4.000000 4.000000 4.000000 4.000000 4.000000 4.000000 4.000000 4.000000 66.666664  NaN                  NaN        NaN      NaN      NaN      NaN      NaN      NaN      NaN      NaN      NaN      NaN      NaN      NaN      NaN      NaN      NaN                   NaN  \n",
       "1689251982.101769 1689251982.102459 76.000000   0.000000         4435.384766 4394.487305 4390.512695 4432.948730 4408.589844 4416.410156 4447.179688 4428.077148 4406.025879 4374.102539 4641.282227 4604.230957 4578.205078 4591.410156 6501.000000 2.000000    46.000000          NaN         NaN        NaN            0.000000           4.000000 4.000000 0.000000 4.000000 4.000000 4.000000 4.000000 4.000000 4.000000 4.000000 4.000000 4.000000 4.000000 4.000000 66.666664  NaN                  NaN        NaN      NaN      NaN      NaN      NaN      NaN      NaN      NaN      NaN      NaN      NaN      NaN      NaN      NaN      19.000000        6.639191  \n",
       "1689251982.109577 1689251982.110266 77.000000   0.000000         4429.743652 4391.538574 4387.692383 4428.205078 4406.794922 4413.717773 4447.051270 4433.077148 4405.769043 4344.230957 4637.307617 4604.358887 4573.461426 4591.666504 6217.000000 2.000000    46.000000          NaN         NaN        NaN            0.000000           4.000000 4.000000 0.000000 4.000000 4.000000 4.000000 4.000000 4.000000 4.000000 4.000000 4.000000 4.000000 4.000000 4.000000 66.666664  NaN                  NaN        NaN      NaN      NaN      NaN      NaN      NaN      NaN      NaN      NaN      NaN      NaN      NaN      NaN      NaN      NaN                   NaN  "
      ]
     },
     "execution_count": 36,
     "metadata": {},
     "output_type": "execute_result"
    }
   ],
   "source": [
    "data.head(10)"
   ]
  },
  {
   "cell_type": "code",
   "execution_count": 43,
   "metadata": {},
   "outputs": [],
   "source": [
    "d = data.iloc[:, 0]"
   ]
  },
  {
   "cell_type": "code",
   "execution_count": 47,
   "metadata": {},
   "outputs": [
    {
     "data": {
      "text/plain": [
       "MultiIndex([(        'Timestamp', 'OriginalTimestamp', 'EEG.Counter', ...),\n",
       "            ('1689251982.047112', '1689251982.047503',   '69.000000', ...),\n",
       "            ('1689251982.054920', '1689251982.055211',   '70.000000', ...),\n",
       "            ('1689251982.062728', '1689251982.063119',   '71.000000', ...),\n",
       "            ('1689251982.070537', '1689251982.070927',   '72.000000', ...),\n",
       "            ('1689251982.078344', '1689251982.078835',   '73.000000', ...),\n",
       "            ('1689251982.086153', '1689251982.086643',   '74.000000', ...),\n",
       "            ('1689251982.093961', '1689251982.094551',   '75.000000', ...),\n",
       "            ('1689251982.101769', '1689251982.102459',   '76.000000', ...),\n",
       "            ('1689251982.109577', '1689251982.110266',   '77.000000', ...),\n",
       "            ...\n",
       "            ('1689252058.465788', '1689252058.466876',    '0.000000', ...),\n",
       "            ('1689252058.473596', '1689252058.474684',    '1.000000', ...),\n",
       "            ('1689252058.481404', '1689252058.482592',    '2.000000', ...),\n",
       "            ('1689252058.489212', '1689252058.490500',    '3.000000', ...),\n",
       "            ('1689252058.497020', '1689252058.498308',    '4.000000', ...),\n",
       "            ('1689252058.504829', '1689252058.506116',    '5.000000', ...),\n",
       "            ('1689252058.512637', '1689252058.513924',    '6.000000', ...),\n",
       "            ('1689252058.520445', '1689252058.521732',    '7.000000', ...),\n",
       "            ('1689252058.528253', '1689252058.529540',    '8.000000', ...),\n",
       "            ('1689252058.536061', '1689252058.537348',    '9.000000', ...)],\n",
       "           length=7601)"
      ]
     },
     "execution_count": 47,
     "metadata": {},
     "output_type": "execute_result"
    }
   ],
   "source": [
    "d.keys()"
   ]
  },
  {
   "cell_type": "code",
   "execution_count": 48,
   "metadata": {},
   "outputs": [
    {
     "data": {
      "text/plain": [
       "OriginalTimestamp  EEG.Counter  EEG.Interpolated  EEG.AF3  EEG.F7  EEG.F3  EEG.FC5  EEG.T7  EEG.P7  EEG.O1  EEG.O2  EEG.P8  EEG.T8  EEG.FC6  EEG.F4  EEG.F8  EEG.AF4  EEG.RawCq  EEG.Battery  EEG.BatteryPercent  MarkerIndex  MarkerType  MarkerValueInt  EEG.MarkerHardware  CQ.AF3  CQ.F7  CQ.F3  CQ.FC5  CQ.T7  CQ.P7  CQ.O1  CQ.O2  CQ.P8  CQ.T8  CQ.FC6  CQ.F4  CQ.F8  CQ.AF4  CQ.Overall  EQ.SampleRateQuality  EQ.OVERALL  EQ.AF3  EQ.F7  EQ.F3  EQ.FC5  EQ.T7  EQ.P7  EQ.O1  EQ.O2  EQ.P8  EQ.T8  EQ.FC6  EQ.F4  EQ.F8  EQ.AF4  MOT.CounterMems    MOT.InterpolatedMems\n",
       "Name: title:test, dtype: object"
      ]
     },
     "execution_count": 48,
     "metadata": {},
     "output_type": "execute_result"
    }
   ],
   "source": [
    "d[\"Timestamp\"]"
   ]
  },
  {
   "cell_type": "code",
   "execution_count": 5,
   "metadata": {},
   "outputs": [],
   "source": [
    "import numpy as np\n",
    "from PIL import Image\n",
    "\n",
    "im = Image.open(\"./dataset/33489_c_0.png\")"
   ]
  },
  {
   "cell_type": "code",
   "execution_count": 6,
   "metadata": {},
   "outputs": [
    {
     "data": {
      "image/png": "[encoded data removed]",
      "text/plain": [
       "<PIL.PngImagePlugin.PngImageFile image mode=RGBA size=640x480>"
      ]
     },
     "execution_count": 6,
     "metadata": {},
     "output_type": "execute_result"
    }
   ],
   "source": [
    "im"
   ]
  },
  {
   "cell_type": "code",
   "execution_count": 8,
   "metadata": {},
   "outputs": [
    {
     "data": {
      "text/plain": [
       "(640, 480)"
      ]
     },
     "execution_count": 8,
     "metadata": {},
     "output_type": "execute_result"
    }
   ],
   "source": [
    "im.size"
   ]
  },
  {
   "cell_type": "code",
   "execution_count": 10,
   "metadata": {},
   "outputs": [
    {
     "name": "stderr",
     "output_type": "stream",
     "text": [
      "2023-09-17 18:01:25.335455: I tensorflow/core/platform/cpu_feature_guard.cc:182] This TensorFlow binary is optimized to use available CPU instructions in performance-critical operations.\n",
      "To enable the following instructions: AVX2 AVX512F AVX512_VNNI FMA, in other operations, rebuild TensorFlow with the appropriate compiler flags.\n",
      "<frozen importlib._bootstrap>:241: RuntimeWarning: scipy._lib.messagestream.MessageStream size changed, may indicate binary incompatibility. Expected 56 from C header, got 64 from PyObject\n"
     ]
    }
   ],
   "source": [
    "from braincoder.helper import text2emb, prepare_text_embedding"
   ]
  },
  {
   "cell_type": "code",
   "execution_count": 13,
   "metadata": {},
   "outputs": [
    {
     "name": "stderr",
     "output_type": "stream",
     "text": [
      "Some weights of the model checkpoint at openai/clip-vit-large-patch14 were not used when initializing CLIPTextModel: ['vision_model.encoder.layers.9.mlp.fc1.bias', 'vision_model.encoder.layers.5.self_attn.out_proj.bias', 'vision_model.encoder.layers.15.layer_norm1.bias', 'vision_model.encoder.layers.10.layer_norm1.bias', 'logit_scale', 'vision_model.encoder.layers.2.self_attn.v_proj.bias', 'vision_model.encoder.layers.16.self_attn.k_proj.weight', 'vision_model.encoder.layers.19.self_attn.out_proj.weight', 'vision_model.encoder.layers.15.self_attn.q_proj.weight', 'vision_model.encoder.layers.3.self_attn.out_proj.bias', 'vision_model.encoder.layers.8.self_attn.k_proj.bias', 'vision_model.encoder.layers.2.self_attn.out_proj.weight', 'vision_model.encoder.layers.23.mlp.fc1.weight', 'vision_model.encoder.layers.2.mlp.fc1.bias', 'vision_model.encoder.layers.6.self_attn.q_proj.weight', 'vision_model.encoder.layers.18.self_attn.k_proj.bias', 'vision_model.encoder.layers.15.layer_norm2.weight', 'vision_model.encoder.layers.13.self_attn.k_proj.bias', 'vision_model.encoder.layers.14.layer_norm1.bias', 'vision_model.encoder.layers.20.mlp.fc1.bias', 'vision_model.encoder.layers.5.self_attn.v_proj.bias', 'vision_model.encoder.layers.22.self_attn.v_proj.weight', 'vision_model.encoder.layers.17.self_attn.out_proj.bias', 'vision_model.encoder.layers.14.self_attn.out_proj.bias', 'vision_model.encoder.layers.7.layer_norm2.weight', 'vision_model.encoder.layers.4.self_attn.out_proj.bias', 'vision_model.encoder.layers.16.layer_norm2.weight', 'vision_model.encoder.layers.17.self_attn.v_proj.weight', 'vision_model.encoder.layers.13.self_attn.q_proj.weight', 'vision_model.encoder.layers.5.layer_norm1.bias', 'vision_model.encoder.layers.4.self_attn.q_proj.weight', 'vision_model.encoder.layers.5.self_attn.k_proj.weight', 'vision_model.encoder.layers.18.mlp.fc2.weight', 'vision_model.encoder.layers.5.self_attn.out_proj.weight', 'vision_model.encoder.layers.5.self_attn.v_proj.weight', 'vision_model.encoder.layers.21.layer_norm1.weight', 'vision_model.encoder.layers.16.self_attn.q_proj.bias', 'vision_model.encoder.layers.11.mlp.fc1.bias', 'vision_model.encoder.layers.12.layer_norm1.weight', 'vision_model.encoder.layers.2.self_attn.v_proj.weight', 'vision_model.encoder.layers.23.self_attn.out_proj.weight', 'vision_model.encoder.layers.6.layer_norm1.weight', 'vision_model.encoder.layers.5.layer_norm1.weight', 'vision_model.encoder.layers.8.layer_norm2.bias', 'vision_model.encoder.layers.18.layer_norm1.weight', 'vision_model.encoder.layers.17.layer_norm1.weight', 'vision_model.encoder.layers.12.layer_norm2.bias', 'vision_model.encoder.layers.23.mlp.fc1.bias', 'vision_model.encoder.layers.20.self_attn.k_proj.weight', 'vision_model.encoder.layers.23.mlp.fc2.weight', 'vision_model.encoder.layers.8.self_attn.v_proj.bias', 'vision_model.encoder.layers.11.layer_norm2.bias', 'vision_model.encoder.layers.23.self_attn.out_proj.bias', 'vision_model.encoder.layers.12.self_attn.q_proj.bias', 'vision_model.encoder.layers.5.mlp.fc1.bias', 'vision_model.encoder.layers.7.layer_norm2.bias', 'vision_model.encoder.layers.2.self_attn.q_proj.weight', 'vision_model.encoder.layers.17.mlp.fc2.bias', 'vision_model.encoder.layers.2.layer_norm1.weight', 'vision_model.post_layernorm.weight', 'vision_model.encoder.layers.22.self_attn.k_proj.bias', 'vision_model.encoder.layers.22.mlp.fc2.bias', 'vision_model.encoder.layers.19.layer_norm1.bias', 'vision_model.encoder.layers.6.layer_norm2.bias', 'vision_model.encoder.layers.19.self_attn.k_proj.bias', 'vision_model.encoder.layers.23.layer_norm2.weight', 'vision_model.encoder.layers.14.mlp.fc2.bias', 'vision_model.encoder.layers.10.self_attn.q_proj.weight', 'vision_model.encoder.layers.20.self_attn.v_proj.weight', 'vision_model.encoder.layers.9.self_attn.out_proj.bias', 'vision_model.embeddings.position_embedding.weight', 'vision_model.encoder.layers.22.mlp.fc1.bias', 'vision_model.encoder.layers.22.layer_norm1.weight', 'vision_model.encoder.layers.20.mlp.fc2.weight', 'vision_model.encoder.layers.1.self_attn.k_proj.bias', 'vision_model.encoder.layers.0.mlp.fc2.weight', 'vision_model.encoder.layers.15.mlp.fc2.bias', 'vision_model.encoder.layers.3.self_attn.v_proj.weight', 'vision_model.encoder.layers.13.mlp.fc1.bias', 'vision_model.encoder.layers.13.layer_norm2.weight', 'vision_model.encoder.layers.21.self_attn.v_proj.weight', 'vision_model.encoder.layers.18.self_attn.out_proj.bias', 'vision_model.encoder.layers.18.mlp.fc1.weight', 'vision_model.encoder.layers.11.self_attn.k_proj.weight', 'vision_model.encoder.layers.12.mlp.fc1.bias', 'vision_model.encoder.layers.10.self_attn.k_proj.weight', 'vision_model.encoder.layers.15.layer_norm2.bias', 'vision_model.encoder.layers.0.mlp.fc1.bias', 'vision_model.encoder.layers.20.self_attn.out_proj.bias', 'vision_model.encoder.layers.4.self_attn.k_proj.weight', 'vision_model.encoder.layers.4.layer_norm2.bias', 'vision_model.encoder.layers.13.self_attn.q_proj.bias', 'vision_model.encoder.layers.16.layer_norm2.bias', 'vision_model.encoder.layers.17.self_attn.k_proj.weight', 'vision_model.encoder.layers.7.self_attn.k_proj.bias', 'vision_model.encoder.layers.17.mlp.fc2.weight', 'vision_model.encoder.layers.20.self_attn.q_proj.bias', 'vision_model.encoder.layers.1.mlp.fc1.bias', 'vision_model.encoder.layers.9.self_attn.q_proj.bias', 'vision_model.encoder.layers.19.mlp.fc2.bias', 'vision_model.encoder.layers.9.self_attn.v_proj.weight', 'vision_model.encoder.layers.19.layer_norm2.bias', 'vision_model.encoder.layers.13.self_attn.out_proj.bias', 'vision_model.encoder.layers.21.self_attn.v_proj.bias', 'vision_model.encoder.layers.7.self_attn.k_proj.weight', 'vision_model.encoder.layers.11.self_attn.out_proj.weight', 'vision_model.encoder.layers.1.mlp.fc2.weight', 'vision_model.encoder.layers.20.self_attn.k_proj.bias', 'vision_model.encoder.layers.12.self_attn.q_proj.weight', 'vision_model.encoder.layers.18.self_attn.q_proj.bias', 'vision_model.encoder.layers.9.mlp.fc2.bias', 'vision_model.encoder.layers.22.self_attn.q_proj.bias', 'vision_model.encoder.layers.9.self_attn.q_proj.weight', 'vision_model.encoder.layers.0.self_attn.k_proj.weight', 'vision_model.pre_layrnorm.weight', 'vision_model.encoder.layers.10.self_attn.v_proj.bias', 'vision_model.encoder.layers.10.self_attn.out_proj.bias', 'vision_model.encoder.layers.14.self_attn.q_proj.bias', 'vision_model.encoder.layers.9.layer_norm1.bias', 'vision_model.encoder.layers.2.self_attn.k_proj.weight', 'vision_model.encoder.layers.19.self_attn.q_proj.weight', 'vision_model.encoder.layers.9.layer_norm2.weight', 'vision_model.encoder.layers.22.mlp.fc2.weight', 'vision_model.encoder.layers.11.mlp.fc2.weight', 'vision_model.encoder.layers.1.mlp.fc2.bias', 'vision_model.encoder.layers.4.mlp.fc2.bias', 'vision_model.encoder.layers.0.self_attn.out_proj.bias', 'vision_model.encoder.layers.4.self_attn.k_proj.bias', 'vision_model.encoder.layers.6.layer_norm2.weight', 'vision_model.encoder.layers.23.self_attn.k_proj.weight', 'vision_model.encoder.layers.5.self_attn.q_proj.bias', 'vision_model.encoder.layers.6.self_attn.k_proj.bias', 'vision_model.encoder.layers.16.mlp.fc2.weight', 'vision_model.encoder.layers.23.mlp.fc2.bias', 'vision_model.encoder.layers.21.mlp.fc1.bias', 'vision_model.encoder.layers.13.layer_norm1.bias', 'vision_model.encoder.layers.7.self_attn.v_proj.weight', 'vision_model.encoder.layers.12.self_attn.k_proj.bias', 'vision_model.encoder.layers.14.self_attn.v_proj.bias', 'vision_model.encoder.layers.4.self_attn.q_proj.bias', 'vision_model.encoder.layers.14.layer_norm1.weight', 'vision_model.encoder.layers.4.mlp.fc1.weight', 'vision_model.encoder.layers.0.layer_norm1.bias', 'vision_model.encoder.layers.12.self_attn.out_proj.weight', 'vision_model.encoder.layers.21.mlp.fc2.bias', 'vision_model.encoder.layers.12.self_attn.k_proj.weight', 'vision_model.encoder.layers.9.self_attn.v_proj.bias', 'vision_model.encoder.layers.17.self_attn.out_proj.weight', 'vision_model.encoder.layers.20.layer_norm2.weight', 'vision_model.encoder.layers.10.layer_norm2.weight', 'vision_model.encoder.layers.12.mlp.fc1.weight', 'text_projection.weight', 'vision_model.encoder.layers.2.self_attn.k_proj.bias', 'vision_model.encoder.layers.1.layer_norm2.weight', 'vision_model.encoder.layers.2.self_attn.out_proj.bias', 'vision_model.encoder.layers.14.layer_norm2.bias', 'vision_model.encoder.layers.2.self_attn.q_proj.bias', 'vision_model.encoder.layers.19.mlp.fc1.weight', 'vision_model.encoder.layers.22.layer_norm2.bias', 'vision_model.encoder.layers.12.mlp.fc2.weight', 'vision_model.encoder.layers.10.self_attn.v_proj.weight', 'vision_model.encoder.layers.6.mlp.fc2.weight', 'vision_model.encoder.layers.15.self_attn.v_proj.weight', 'vision_model.encoder.layers.21.mlp.fc2.weight', 'vision_model.encoder.layers.13.mlp.fc2.weight', 'vision_model.encoder.layers.15.self_attn.q_proj.bias', 'vision_model.encoder.layers.1.layer_norm1.bias', 'vision_model.encoder.layers.6.layer_norm1.bias', 'vision_model.encoder.layers.1.layer_norm1.weight', 'vision_model.encoder.layers.13.self_attn.k_proj.weight', 'vision_model.encoder.layers.10.layer_norm1.weight', 'vision_model.encoder.layers.9.layer_norm1.weight', 'vision_model.encoder.layers.10.self_attn.out_proj.weight', 'vision_model.encoder.layers.17.layer_norm2.weight', 'vision_model.encoder.layers.12.self_attn.v_proj.weight', 'vision_model.encoder.layers.8.self_attn.q_proj.bias', 'vision_model.embeddings.position_ids', 'vision_model.encoder.layers.1.self_attn.k_proj.weight', 'vision_model.encoder.layers.19.self_attn.q_proj.bias', 'vision_model.encoder.layers.15.self_attn.k_proj.bias', 'vision_model.encoder.layers.20.mlp.fc2.bias', 'vision_model.encoder.layers.17.layer_norm1.bias', 'vision_model.encoder.layers.21.self_attn.q_proj.bias', 'vision_model.encoder.layers.11.layer_norm1.bias', 'vision_model.encoder.layers.14.mlp.fc2.weight', 'vision_model.encoder.layers.3.mlp.fc2.weight', 'vision_model.encoder.layers.18.mlp.fc1.bias', 'vision_model.encoder.layers.22.self_attn.out_proj.weight', 'vision_model.encoder.layers.1.self_attn.q_proj.weight', 'vision_model.encoder.layers.18.self_attn.k_proj.weight', 'vision_model.encoder.layers.5.layer_norm2.weight', 'vision_model.encoder.layers.6.self_attn.q_proj.bias', 'vision_model.encoder.layers.21.mlp.fc1.weight', 'vision_model.encoder.layers.16.self_attn.out_proj.bias', 'vision_model.encoder.layers.11.mlp.fc2.bias', 'vision_model.encoder.layers.0.self_attn.k_proj.bias', 'vision_model.encoder.layers.9.mlp.fc1.weight', 'vision_model.encoder.layers.18.self_attn.v_proj.weight', 'vision_model.encoder.layers.8.mlp.fc1.weight', 'vision_model.encoder.layers.11.self_attn.q_proj.weight', 'vision_model.encoder.layers.19.self_attn.out_proj.bias', 'vision_model.encoder.layers.19.layer_norm2.weight', 'vision_model.encoder.layers.0.self_attn.v_proj.bias', 'vision_model.encoder.layers.6.mlp.fc1.bias', 'vision_model.encoder.layers.17.self_attn.q_proj.weight', 'vision_model.encoder.layers.6.self_attn.k_proj.weight', 'vision_model.encoder.layers.21.self_attn.k_proj.weight', 'vision_model.encoder.layers.6.self_attn.v_proj.bias', 'vision_model.encoder.layers.8.self_attn.out_proj.weight', 'vision_model.encoder.layers.8.mlp.fc1.bias', 'vision_model.encoder.layers.15.layer_norm1.weight', 'vision_model.encoder.layers.16.self_attn.k_proj.bias', 'vision_model.encoder.layers.22.self_attn.v_proj.bias', 'vision_model.encoder.layers.14.layer_norm2.weight', 'vision_model.encoder.layers.7.self_attn.q_proj.weight', 'vision_model.encoder.layers.21.self_attn.out_proj.bias', 'vision_model.encoder.layers.15.self_attn.out_proj.weight', 'vision_model.encoder.layers.8.layer_norm2.weight', 'vision_model.encoder.layers.7.self_attn.v_proj.bias', 'vision_model.encoder.layers.1.self_attn.out_proj.weight', 'vision_model.encoder.layers.14.self_attn.out_proj.weight', 'vision_model.encoder.layers.23.self_attn.v_proj.weight', 'vision_model.embeddings.class_embedding', 'vision_model.encoder.layers.10.mlp.fc1.weight', 'vision_model.encoder.layers.3.mlp.fc1.bias', 'vision_model.encoder.layers.15.mlp.fc1.weight', 'vision_model.encoder.layers.16.layer_norm1.weight', 'vision_model.encoder.layers.5.mlp.fc2.weight', 'vision_model.encoder.layers.22.layer_norm1.bias', 'vision_model.encoder.layers.22.layer_norm2.weight', 'vision_model.encoder.layers.5.self_attn.k_proj.bias', 'vision_model.encoder.layers.7.self_attn.out_proj.weight', 'vision_model.encoder.layers.23.layer_norm2.bias', 'vision_model.encoder.layers.2.layer_norm2.bias', 'vision_model.encoder.layers.2.mlp.fc2.weight', 'vision_model.encoder.layers.3.self_attn.q_proj.weight', 'vision_model.encoder.layers.1.self_attn.v_proj.weight', 'vision_model.encoder.layers.18.self_attn.out_proj.weight', 'vision_model.encoder.layers.3.self_attn.q_proj.bias', 'vision_model.encoder.layers.4.self_attn.v_proj.bias', 'vision_model.encoder.layers.10.mlp.fc1.bias', 'vision_model.encoder.layers.14.self_attn.q_proj.weight', 'vision_model.encoder.layers.21.self_attn.k_proj.bias', 'vision_model.encoder.layers.0.self_attn.out_proj.weight', 'vision_model.encoder.layers.3.self_attn.v_proj.bias', 'vision_model.encoder.layers.10.mlp.fc2.weight', 'vision_model.encoder.layers.1.self_attn.out_proj.bias', 'vision_model.encoder.layers.19.self_attn.v_proj.weight', 'vision_model.encoder.layers.13.mlp.fc2.bias', 'vision_model.encoder.layers.0.self_attn.q_proj.weight', 'vision_model.encoder.layers.12.layer_norm2.weight', 'vision_model.encoder.layers.11.self_attn.v_proj.weight', 'vision_model.encoder.layers.3.self_attn.k_proj.weight', 'vision_model.encoder.layers.23.layer_norm1.weight', 'vision_model.encoder.layers.8.mlp.fc2.bias', 'vision_model.encoder.layers.22.mlp.fc1.weight', 'vision_model.encoder.layers.20.self_attn.q_proj.weight', 'vision_model.encoder.layers.2.mlp.fc1.weight', 'vision_model.encoder.layers.14.self_attn.v_proj.weight', 'vision_model.encoder.layers.11.layer_norm2.weight', 'vision_model.encoder.layers.11.self_attn.k_proj.bias', 'vision_model.encoder.layers.7.self_attn.q_proj.bias', 'vision_model.encoder.layers.16.mlp.fc2.bias', 'visual_projection.weight', 'vision_model.encoder.layers.19.mlp.fc2.weight', 'vision_model.encoder.layers.11.self_attn.v_proj.bias', 'vision_model.encoder.layers.0.mlp.fc2.bias', 'vision_model.encoder.layers.7.self_attn.out_proj.bias', 'vision_model.encoder.layers.5.self_attn.q_proj.weight', 'vision_model.encoder.layers.4.self_attn.v_proj.weight', 'vision_model.encoder.layers.8.mlp.fc2.weight', 'vision_model.encoder.layers.15.self_attn.v_proj.bias', 'vision_model.encoder.layers.13.self_attn.v_proj.bias', 'vision_model.encoder.layers.7.mlp.fc1.bias', 'vision_model.encoder.layers.14.mlp.fc1.bias', 'vision_model.encoder.layers.19.mlp.fc1.bias', 'vision_model.encoder.layers.17.mlp.fc1.weight', 'vision_model.encoder.layers.8.self_attn.q_proj.weight', 'vision_model.encoder.layers.12.layer_norm1.bias', 'vision_model.encoder.layers.19.self_attn.v_proj.bias', 'vision_model.encoder.layers.20.self_attn.out_proj.weight', 'vision_model.encoder.layers.0.layer_norm1.weight', 'vision_model.encoder.layers.17.layer_norm2.bias', 'vision_model.encoder.layers.3.self_attn.out_proj.weight', 'vision_model.encoder.layers.8.layer_norm1.bias', 'vision_model.encoder.layers.4.layer_norm2.weight', 'vision_model.encoder.layers.4.mlp.fc1.bias', 'vision_model.encoder.layers.3.mlp.fc2.bias', 'vision_model.encoder.layers.5.mlp.fc2.bias', 'vision_model.encoder.layers.9.mlp.fc2.weight', 'vision_model.encoder.layers.10.mlp.fc2.bias', 'vision_model.encoder.layers.1.layer_norm2.bias', 'vision_model.encoder.layers.13.mlp.fc1.weight', 'vision_model.encoder.layers.23.self_attn.q_proj.weight', 'vision_model.encoder.layers.6.mlp.fc1.weight', 'vision_model.encoder.layers.12.self_attn.out_proj.bias', 'vision_model.encoder.layers.2.mlp.fc2.bias', 'vision_model.encoder.layers.4.mlp.fc2.weight', 'vision_model.encoder.layers.18.layer_norm1.bias', 'vision_model.post_layernorm.bias', 'vision_model.encoder.layers.10.layer_norm2.bias', 'vision_model.encoder.layers.6.self_attn.v_proj.weight', 'vision_model.encoder.layers.22.self_attn.out_proj.bias', 'vision_model.encoder.layers.17.self_attn.q_proj.bias', 'vision_model.encoder.layers.9.self_attn.k_proj.bias', 'vision_model.encoder.layers.15.self_attn.k_proj.weight', 'vision_model.encoder.layers.16.mlp.fc1.bias', 'vision_model.encoder.layers.11.self_attn.q_proj.bias', 'vision_model.encoder.layers.21.self_attn.q_proj.weight', 'vision_model.encoder.layers.10.self_attn.q_proj.bias', 'vision_model.encoder.layers.18.layer_norm2.bias', 'vision_model.encoder.layers.1.self_attn.v_proj.bias', 'vision_model.encoder.layers.17.mlp.fc1.bias', 'vision_model.encoder.layers.13.self_attn.v_proj.weight', 'vision_model.encoder.layers.18.layer_norm2.weight', 'vision_model.encoder.layers.9.layer_norm2.bias', 'vision_model.encoder.layers.3.layer_norm1.weight', 'vision_model.encoder.layers.4.layer_norm1.bias', 'vision_model.encoder.layers.3.layer_norm2.bias', 'vision_model.encoder.layers.9.self_attn.k_proj.weight', 'vision_model.encoder.layers.5.layer_norm2.bias', 'vision_model.encoder.layers.4.layer_norm1.weight', 'vision_model.encoder.layers.17.self_attn.k_proj.bias', 'vision_model.encoder.layers.14.mlp.fc1.weight', 'vision_model.encoder.layers.13.layer_norm2.bias', 'vision_model.encoder.layers.6.mlp.fc2.bias', 'vision_model.encoder.layers.20.mlp.fc1.weight', 'vision_model.encoder.layers.23.self_attn.k_proj.bias', 'vision_model.encoder.layers.14.self_attn.k_proj.bias', 'vision_model.encoder.layers.11.layer_norm1.weight', 'vision_model.encoder.layers.8.self_attn.v_proj.weight', 'vision_model.encoder.layers.4.self_attn.out_proj.weight', 'vision_model.encoder.layers.16.self_attn.q_proj.weight', 'vision_model.encoder.layers.18.self_attn.v_proj.bias', 'vision_model.encoder.layers.21.layer_norm1.bias', 'vision_model.encoder.layers.7.mlp.fc2.bias', 'vision_model.encoder.layers.20.self_attn.v_proj.bias', 'vision_model.encoder.layers.7.layer_norm1.bias', 'vision_model.encoder.layers.14.self_attn.k_proj.weight', 'vision_model.encoder.layers.19.layer_norm1.weight', 'vision_model.encoder.layers.3.layer_norm2.weight', 'vision_model.encoder.layers.13.layer_norm1.weight', 'vision_model.encoder.layers.0.layer_norm2.bias', 'vision_model.encoder.layers.16.mlp.fc1.weight', 'vision_model.encoder.layers.1.self_attn.q_proj.bias', 'vision_model.encoder.layers.6.self_attn.out_proj.weight', 'vision_model.encoder.layers.10.self_attn.k_proj.bias', 'vision_model.encoder.layers.17.self_attn.v_proj.bias', 'vision_model.encoder.layers.16.self_attn.out_proj.weight', 'vision_model.encoder.layers.15.mlp.fc2.weight', 'vision_model.encoder.layers.12.self_attn.v_proj.bias', 'vision_model.encoder.layers.8.self_attn.out_proj.bias', 'vision_model.encoder.layers.23.self_attn.q_proj.bias', 'vision_model.encoder.layers.0.mlp.fc1.weight', 'vision_model.encoder.layers.16.self_attn.v_proj.bias', 'vision_model.encoder.layers.21.layer_norm2.bias', 'vision_model.encoder.layers.7.mlp.fc2.weight', 'vision_model.encoder.layers.9.self_attn.out_proj.weight', 'vision_model.encoder.layers.2.layer_norm1.bias', 'vision_model.encoder.layers.8.layer_norm1.weight', 'vision_model.encoder.layers.16.self_attn.v_proj.weight', 'vision_model.pre_layrnorm.bias', 'vision_model.encoder.layers.11.self_attn.out_proj.bias', 'vision_model.encoder.layers.7.mlp.fc1.weight', 'vision_model.encoder.layers.23.layer_norm1.bias', 'vision_model.encoder.layers.8.self_attn.k_proj.weight', 'vision_model.encoder.layers.11.mlp.fc1.weight', 'vision_model.encoder.layers.18.mlp.fc2.bias', 'vision_model.encoder.layers.0.self_attn.v_proj.weight', 'vision_model.encoder.layers.1.mlp.fc1.weight', 'vision_model.encoder.layers.16.layer_norm1.bias', 'vision_model.encoder.layers.12.mlp.fc2.bias', 'vision_model.embeddings.patch_embedding.weight', 'vision_model.encoder.layers.23.self_attn.v_proj.bias', 'vision_model.encoder.layers.2.layer_norm2.weight', 'vision_model.encoder.layers.22.self_attn.q_proj.weight', 'vision_model.encoder.layers.3.self_attn.k_proj.bias', 'vision_model.encoder.layers.15.self_attn.out_proj.bias', 'vision_model.encoder.layers.18.self_attn.q_proj.weight', 'vision_model.encoder.layers.22.self_attn.k_proj.weight', 'vision_model.encoder.layers.21.layer_norm2.weight', 'vision_model.encoder.layers.5.mlp.fc1.weight', 'vision_model.encoder.layers.3.layer_norm1.bias', 'vision_model.encoder.layers.0.self_attn.q_proj.bias', 'vision_model.encoder.layers.13.self_attn.out_proj.weight', 'vision_model.encoder.layers.15.mlp.fc1.bias', 'vision_model.encoder.layers.20.layer_norm2.bias', 'vision_model.encoder.layers.20.layer_norm1.weight', 'vision_model.encoder.layers.20.layer_norm1.bias', 'vision_model.encoder.layers.0.layer_norm2.weight', 'vision_model.encoder.layers.3.mlp.fc1.weight', 'vision_model.encoder.layers.19.self_attn.k_proj.weight', 'vision_model.encoder.layers.6.self_attn.out_proj.bias', 'vision_model.encoder.layers.21.self_attn.out_proj.weight', 'vision_model.encoder.layers.7.layer_norm1.weight']\n",
      "- This IS expected if you are initializing CLIPTextModel from the checkpoint of a model trained on another task or with another architecture (e.g. initializing a BertForSequenceClassification model from a BertForPreTraining model).\n",
      "- This IS NOT expected if you are initializing CLIPTextModel from the checkpoint of a model that you expect to be exactly identical (initializing a BertForSequenceClassification model from a BertForSequenceClassification model).\n"
     ]
    }
   ],
   "source": [
    "tokenizer, text_encoder = prepare_text_embedding(\"cpu\")"
   ]
  },
  {
   "cell_type": "code",
   "execution_count": 20,
   "metadata": {},
   "outputs": [
    {
     "data": {
      "text/plain": [
       "torch.Size([1, 77, 768])"
      ]
     },
     "execution_count": 20,
     "metadata": {},
     "output_type": "execute_result"
    }
   ],
   "source": [
    "text2emb(\"Power lines lined with hundreds of birds at\", tokenizer, text_encoder, \"cpu\")[1].shape"
   ]
  },
  {
   "cell_type": "code",
   "execution_count": null,
   "metadata": {},
   "outputs": [],
   "source": []
  }
 ],
 "metadata": {
  "kernelspec": {
   "display_name": "Python 3 (ipykernel)",
   "language": "python",
   "name": "python3"
  },
  "language_info": {
   "codemirror_mode": {
    "name": "ipython",
    "version": 3
   },
   "file_extension": ".py",
   "mimetype": "text/x-python",
   "name": "python",
   "nbconvert_exporter": "python",
   "pygments_lexer": "ipython3",
   "version": "3.10.4"
  },
  "vscode": {
   "interpreter": {
    "hash": "9d2639ffb07810fac2cedc92e08a41c0bae42ca785c48ccdb21dd6b5e60bd2fc"
   }
  }
 },
 "nbformat": 4,
 "nbformat_minor": 2
}
